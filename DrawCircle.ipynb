{
 "cells": [
  {
   "cell_type": "markdown",
   "id": "f4eda330",
   "metadata": {},
   "source": [
    "# Vẽ hình tròn"
   ]
  },
  {
   "cell_type": "markdown",
   "id": "d7d08ba6",
   "metadata": {},
   "source": [
    "## Cai dat thu vien turtle"
   ]
  },
  {
   "cell_type": "code",
   "execution_count": 32,
   "id": "e0579b75",
   "metadata": {},
   "outputs": [],
   "source": [
    "import turtle"
   ]
  },
  {
   "cell_type": "code",
   "execution_count": 34,
   "id": "94dc2be8",
   "metadata": {},
   "outputs": [],
   "source": [
    "pen = turtle.Turtle()"
   ]
  },
  {
   "cell_type": "markdown",
   "id": "a4fbcd6b",
   "metadata": {},
   "source": [
    "## Tuy chinh pen"
   ]
  },
  {
   "cell_type": "code",
   "execution_count": 35,
   "id": "07f5d434",
   "metadata": {},
   "outputs": [],
   "source": [
    "pen.pensize(3)\n",
    "pen.fillcolor('green')\n",
    "pen.pencolor('red')\n",
    "pen.speed(2)"
   ]
  },
  {
   "cell_type": "markdown",
   "id": "fef65e29",
   "metadata": {},
   "source": [
    "## Ve hinh tron"
   ]
  },
  {
   "cell_type": "code",
   "execution_count": 36,
   "id": "e361baab",
   "metadata": {},
   "outputs": [],
   "source": [
    "pen.begin_fill()\n",
    "pen.goto(0,-150)\n",
    "pen.circle(200)\n",
    "pen.end_fill()"
   ]
  },
  {
   "cell_type": "code",
   "execution_count": 37,
   "id": "a7aba32d",
   "metadata": {},
   "outputs": [],
   "source": [
    "pen.penup()\n",
    "pen.goto(20,20)\n",
    "pen.fillcolor('yellow')\n",
    "pen.pendown()\n",
    "pen.begin_fill()\n",
    "pen.circle(100)\n",
    "pen.end_fill()"
   ]
  },
  {
   "cell_type": "markdown",
   "id": "907bddad",
   "metadata": {},
   "source": [
    "## Ket thuc ve"
   ]
  },
  {
   "cell_type": "code",
   "execution_count": 38,
   "id": "dee8e052",
   "metadata": {},
   "outputs": [],
   "source": [
    "turtle.done()"
   ]
  }
 ],
 "metadata": {
  "kernelspec": {
   "display_name": "Python 3 (ipykernel)",
   "language": "python",
   "name": "python3"
  },
  "language_info": {
   "codemirror_mode": {
    "name": "ipython",
    "version": 3
   },
   "file_extension": ".py",
   "mimetype": "text/x-python",
   "name": "python",
   "nbconvert_exporter": "python",
   "pygments_lexer": "ipython3",
   "version": "3.10.2"
  }
 },
 "nbformat": 4,
 "nbformat_minor": 5
}
