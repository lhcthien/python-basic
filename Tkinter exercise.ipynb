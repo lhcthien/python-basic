{
 "cells": [
  {
   "cell_type": "markdown",
   "id": "533cd528",
   "metadata": {},
   "source": [
    "# Simple calculator"
   ]
  },
  {
   "cell_type": "code",
   "execution_count": 17,
   "id": "b9c04f9a",
   "metadata": {},
   "outputs": [],
   "source": [
    "from tkinter import *\n",
    "\n",
    "windows = Tk()\n",
    "windows.title(\"Simple Calculator\")\n",
    "windows.geometry(\"400x300\") # Chinh kich thuoc cua window\n",
    "windows.eval('tk::PlaceWindow . center') # Cua so luon hien ngay giua man hinh\n",
    "\n",
    "input1 = Entry(windows)\n",
    "input2 = Entry(windows)\n",
    "result_lb = Label(windows, text = \"Enter number\")\n",
    "\n",
    "def add():\n",
    "    result = int(input1.get()) + int(input2.get())\n",
    "    result_lb.config(text = result)\n",
    "\n",
    "def minus():\n",
    "    result = int(input1.get()) - int(input2.get())\n",
    "    result_lb.config(text = result)\n",
    "\n",
    "def mul():\n",
    "    result = int(input1.get()) * int(input2.get())\n",
    "    result_lb.config(text = result)\n",
    "\n",
    "def div():\n",
    "    result = int(input1.get()) / int(input2.get())\n",
    "    result_lb.config(text = result)\n",
    "\n",
    "\n",
    "\n",
    "add_btn = Button(windows, text = ' + ', width = 5, command = add)\n",
    "minus_btn = Button(windows, text = ' - ', width = 5, command = minus)\n",
    "mul_btn = Button(windows, text = ' x ', width = 5, command = mul)\n",
    "div_btn = Button(windows, text = ' / ', width = 5, command = div)\n",
    "\n",
    "\n",
    "input1.pack()\n",
    "input2.pack()\n",
    "add_btn.pack()\n",
    "minus_btn.pack()\n",
    "mul_btn.pack()\n",
    "div_btn.pack()\n",
    "result_lb.pack()\n",
    "\n",
    "windows.mainloop()"
   ]
  },
  {
   "cell_type": "markdown",
   "id": "108fff81",
   "metadata": {},
   "source": [
    "# Full name"
   ]
  },
  {
   "cell_type": "code",
   "execution_count": 3,
   "id": "51355c88",
   "metadata": {},
   "outputs": [],
   "source": [
    "from tkinter import *\n",
    "\n",
    "windows = Tk()\n",
    "windows.title(\"My intro\")\n",
    "windows.geometry(\"400x100\") # Chinh kich thuoc cua window\n",
    "windows.eval('tk::PlaceWindow . center') # Cua so luon hien ngay giua man hinh\n",
    "\n",
    "firstname = Entry(windows)\n",
    "lastname = Entry(windows)\n",
    "fullname_lb = Label(windows, text = \"Enter your name\")\n",
    "\n",
    "firstname_lb = Label(windows, text = 'First name:')\n",
    "lastname_lb = Label(windows, text = 'Last name:')\n",
    "\n",
    "def add_str():\n",
    "    fullname = firstname.get() + ' ' + lastname.get()\n",
    "    fullname_lb.config(text = f'My name is {fullname}')\n",
    "\n",
    "    \n",
    "submit_btn = Button(windows, text = 'Submit', command = add_str)\n",
    "    \n",
    "fullname_lb.grid(column = 0, row = 0, columnspan = 2)\n",
    "firstname_lb.grid(column = 0, row = 1)\n",
    "lastname_lb.grid(column = 0, row = 2)\n",
    "firstname.grid(column = 1, row = 1)\n",
    "lastname.grid(column = 1, row = 2)\n",
    "submit_btn.grid(column = 1, row = 3)\n",
    "\n",
    "windows.mainloop()"
   ]
  },
  {
   "cell_type": "markdown",
   "id": "3590ab37",
   "metadata": {},
   "source": [
    "# BMI Calculator "
   ]
  },
  {
   "cell_type": "code",
   "execution_count": 6,
   "id": "9e32ddc9",
   "metadata": {},
   "outputs": [],
   "source": [
    "from tkinter import *\n",
    "from tkinter import messagebox\n",
    "\n",
    "windows = Tk()\n",
    "windows.title(\"BMI calculator\")\n",
    "windows.geometry(\"400x200\") # Chinh kich thuoc cua window\n",
    "windows.eval('tk::PlaceWindow . center') # Cua so luon hien ngay giua man hinh\n",
    "\n",
    "title_lb = Label(windows, text = 'BMI Calculator')\n",
    "height_lb = Label(windows, text = 'Your height (m):')\n",
    "weight_lb = Label(windows, text = 'Your weight (kg):')\n",
    "height = Entry(windows)\n",
    "weight = Entry(windows)\n",
    "\n",
    "def bmi():\n",
    "    result = float(weight.get())/(float(height.get())**2)\n",
    "    messagebox.showinfo(\"BMI Result\", f'Your BMI is {round(result,2)}')\n",
    "                                \n",
    "submit_btn = Button(windows, text = \"Submit\", command = bmi)\n",
    "\n",
    "\n",
    "\n",
    "title_lb.grid(column = 0, row = 0, columnspan = 2)\n",
    "height_lb.grid(column = 0, row = 1)\n",
    "weight_lb.grid(column = 0, row = 2)\n",
    "height.grid(column = 1, row = 1)\n",
    "weight.grid(column = 1, row = 2)\n",
    "submit_btn.grid(column = 1, row = 3)\n",
    "\n",
    "windows.mainloop()"
   ]
  }
 ],
 "metadata": {
  "kernelspec": {
   "display_name": "Python 3 (ipykernel)",
   "language": "python",
   "name": "python3"
  },
  "language_info": {
   "codemirror_mode": {
    "name": "ipython",
    "version": 3
   },
   "file_extension": ".py",
   "mimetype": "text/x-python",
   "name": "python",
   "nbconvert_exporter": "python",
   "pygments_lexer": "ipython3",
   "version": "3.10.2"
  }
 },
 "nbformat": 4,
 "nbformat_minor": 5
}
