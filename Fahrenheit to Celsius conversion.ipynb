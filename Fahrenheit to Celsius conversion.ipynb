{
 "cells": [
  {
   "cell_type": "markdown",
   "id": "b8b1cd36",
   "metadata": {},
   "source": [
    "# Chuyen doi nhiet do"
   ]
  },
  {
   "cell_type": "code",
   "execution_count": 2,
   "id": "0194d372",
   "metadata": {},
   "outputs": [
    {
     "name": "stdout",
     "output_type": "stream",
     "text": [
      " Enter temperature in Celsius: 37\n",
      " Temperature in Fahrenheit is:  98.6\n"
     ]
    }
   ],
   "source": [
    "c = input(\" Enter temperature in Celsius: \")\n",
    "\n",
    "f = (9*(int(c))/5)+32\n",
    "\n",
    "print(\" Temperature in Fahrenheit is: \", f)"
   ]
  }
 ],
 "metadata": {
  "kernelspec": {
   "display_name": "Python 3 (ipykernel)",
   "language": "python",
   "name": "python3"
  },
  "language_info": {
   "codemirror_mode": {
    "name": "ipython",
    "version": 3
   },
   "file_extension": ".py",
   "mimetype": "text/x-python",
   "name": "python",
   "nbconvert_exporter": "python",
   "pygments_lexer": "ipython3",
   "version": "3.10.2"
  }
 },
 "nbformat": 4,
 "nbformat_minor": 5
}
