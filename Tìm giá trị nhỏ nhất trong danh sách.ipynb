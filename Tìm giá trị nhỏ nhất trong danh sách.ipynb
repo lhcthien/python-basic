{
 "cells": [
  {
   "cell_type": "markdown",
   "id": "09d0c0eb",
   "metadata": {},
   "source": [
    "# Tìm giá trị nhỏ nhất trong danh sách"
   ]
  },
  {
   "cell_type": "code",
   "execution_count": 2,
   "id": "349c70bb",
   "metadata": {},
   "outputs": [
    {
     "name": "stdout",
     "output_type": "stream",
     "text": [
      "Min number:  0\n"
     ]
    }
   ],
   "source": [
    "def get_min_numbers(numbers):\n",
    "    result = numbers[0]\n",
    "    for num in numbers:\n",
    "        if result > num:\n",
    "            result = num\n",
    "    return result\n",
    "\n",
    "numbers = [1,5,2,5,12,6,8,0,12,56]\n",
    "min_number = get_min_numbers(numbers)\n",
    "print(\"Min number: \", min_number)"
   ]
  }
 ],
 "metadata": {
  "kernelspec": {
   "display_name": "Python 3 (ipykernel)",
   "language": "python",
   "name": "python3"
  },
  "language_info": {
   "codemirror_mode": {
    "name": "ipython",
    "version": 3
   },
   "file_extension": ".py",
   "mimetype": "text/x-python",
   "name": "python",
   "nbconvert_exporter": "python",
   "pygments_lexer": "ipython3",
   "version": "3.10.2"
  }
 },
 "nbformat": 4,
 "nbformat_minor": 5
}
