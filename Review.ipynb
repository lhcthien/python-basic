{
 "cells": [
  {
   "cell_type": "markdown",
   "id": "88310ba1",
   "metadata": {},
   "source": [
    "# Review "
   ]
  },
  {
   "cell_type": "markdown",
   "id": "54c28294",
   "metadata": {},
   "source": [
    "Viet ham co du lieu dau vao la 2 so a b, so nao lon hon thi in ra bang cuu chung cua so do"
   ]
  },
  {
   "cell_type": "code",
   "execution_count": 3,
   "id": "14dff629",
   "metadata": {
    "scrolled": true
   },
   "outputs": [
    {
     "name": "stdout",
     "output_type": "stream",
     "text": [
      "9 x 1 = 9\n",
      "9 x 2 = 18\n",
      "9 x 3 = 27\n",
      "9 x 4 = 36\n",
      "9 x 5 = 45\n",
      "9 x 6 = 54\n",
      "9 x 7 = 63\n",
      "9 x 8 = 72\n",
      "9 x 9 = 81\n",
      "9 x 10 = 90\n"
     ]
    }
   ],
   "source": [
    "# a = int(input('Nhap so a: '))\n",
    "# b = int(input('Nhap so b: '))\n",
    "\n",
    "def mul_table(a,b):\n",
    "    max_val = a if a > b else b\n",
    "    for i in range(1,11):\n",
    "        print(f'{max_val} x {i} = {max_val*i}')\n",
    "            \n",
    "mul_table(9,7)"
   ]
  },
  {
   "cell_type": "markdown",
   "id": "75256f37",
   "metadata": {},
   "source": [
    "Viết hàm `remove_string` có dữ liệu đầu vào là 2 chuỗi a và b, hãy tìm trong chuỗi a có chuỗi b hay không, nếu có hãy xóa toán bộ chuỗi b trong a.\n",
    "\n",
    "Sau đó trả về chuỗi a mới\n",
    "\n",
    "Ví dụ:\n",
    "\n",
    "chuoi1 = \"xin chào các bạn, các bạn có khỏe không?\"\n",
    "\n",
    "chuoi2 = \"các bạn\"\n",
    "\n",
    "chuoi3 = remove_string(chuoi1,chuoi2)\n",
    "\n",
    "print(chuoi3)\n",
    "\n",
    "Kết quả in ra là:\n",
    "xin chào ,  có khỏe không\n"
   ]
  },
  {
   "cell_type": "code",
   "execution_count": 7,
   "id": "33377e7b",
   "metadata": {},
   "outputs": [
    {
     "data": {
      "text/plain": [
       "'xin chao '"
      ]
     },
     "execution_count": 7,
     "metadata": {},
     "output_type": "execute_result"
    }
   ],
   "source": [
    "def  remove_str(chuoi1, chuoi2):\n",
    "    if chuoi2 in chuoi1:\n",
    "        chuoi3 = chuoi1.replace(chuoi2, \"\")\n",
    "        \n",
    "    return chuoi3\n",
    "remove_str('xin chao cac ban', 'cac ban')"
   ]
  },
  {
   "cell_type": "markdown",
   "id": "e0a8ae8e",
   "metadata": {},
   "source": [
    "Viet ham nhan vao 4 so nguyen va tra ve gia tri lon thu 2 trong 4 so do"
   ]
  },
  {
   "cell_type": "code",
   "execution_count": 11,
   "id": "103d8429",
   "metadata": {},
   "outputs": [
    {
     "data": {
      "text/plain": [
       "3"
      ]
     },
     "execution_count": 11,
     "metadata": {},
     "output_type": "execute_result"
    }
   ],
   "source": [
    "def second_num(a,b,c,d):\n",
    "    list_num = [a,b,c,d]\n",
    "    list_num.sort()\n",
    "    return list_num[2]\n",
    "second_num(2,3,1,9)"
   ]
  },
  {
   "cell_type": "code",
   "execution_count": 20,
   "id": "1319d2c7",
   "metadata": {},
   "outputs": [
    {
     "data": {
      "text/plain": [
       "2"
      ]
     },
     "execution_count": 20,
     "metadata": {},
     "output_type": "execute_result"
    }
   ],
   "source": [
    "def second_num(a,b,c,d):\n",
    "    max_val = a\n",
    "    if b > max_val:\n",
    "        max_val = b\n",
    "    if c > max_val:\n",
    "        max_val = c\n",
    "    if d > max_val:\n",
    "        max_val = d\n",
    "        \n",
    "    max_val2 = a\n",
    "    if b > max_val2 and b < max_val:\n",
    "        max_val = b\n",
    "    if c > max_val and b < max_val:\n",
    "        max_val = c\n",
    "    if d > max_val and b < max_val:\n",
    "        max_val = d\n",
    "    \n",
    "    return max_val2\n",
    "\n",
    "second_num(2,3,1,9)"
   ]
  },
  {
   "cell_type": "markdown",
   "id": "4cdb9162",
   "metadata": {},
   "source": [
    "treeprsqkm la 1 dictionary hien thi so luong cay tren 1 km2 o moi quoc gia khac nhau. hay viet ham nhan dict nay va tra ve danh sach ten cac quoc gia co hon 20000 cay tren 1km2"
   ]
  },
  {
   "cell_type": "code",
   "execution_count": 32,
   "id": "53b451ca",
   "metadata": {},
   "outputs": [
    {
     "data": {
      "text/plain": [
       "['Finland',\n",
       " 'Taiwan',\n",
       " 'Japan',\n",
       " 'Russia',\n",
       " 'Brazil',\n",
       " 'Canada',\n",
       " 'Bulgaria',\n",
       " 'France',\n",
       " 'Greece',\n",
       " 'United States']"
      ]
     },
     "execution_count": 32,
     "metadata": {},
     "output_type": "execute_result"
    }
   ],
   "source": [
    "treepersqkm = {\"Finland\": 90652, \"Taiwan\": 69593, \"Japan\": 49894, \"Russia\": 41396, \"Brazil\": 39542, \"Canada\": 36388, \"Bulgaria\": 24987, \"France\": 24436, \"Greece\": 24323, \"United States\": 23513, \"Turkey\": 11126, \"India\": 11109, \"Denmark\": 6129, \"Syria\": 534, \"Saudi Arabia\": 1}\n",
    "\n",
    "\n",
    "def tree_pr_sqkm(treepersqkm):    \n",
    "    nation = []\n",
    "    for key in treepersqkm.keys():\n",
    "        if treepersqkm[key] > 20000:\n",
    "            nation.append(key)\n",
    "    return nation\n",
    "\n",
    "tree_pr_sqkm(treepersqkm)"
   ]
  }
 ],
 "metadata": {
  "kernelspec": {
   "display_name": "Python 3 (ipykernel)",
   "language": "python",
   "name": "python3"
  },
  "language_info": {
   "codemirror_mode": {
    "name": "ipython",
    "version": 3
   },
   "file_extension": ".py",
   "mimetype": "text/x-python",
   "name": "python",
   "nbconvert_exporter": "python",
   "pygments_lexer": "ipython3",
   "version": "3.10.2"
  }
 },
 "nbformat": 4,
 "nbformat_minor": 5
}
