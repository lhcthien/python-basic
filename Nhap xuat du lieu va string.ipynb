{
 "cells": [
  {
   "cell_type": "markdown",
   "id": "7ac14915",
   "metadata": {},
   "source": [
    "# Nhập xuất dữ liệu và String\n",
    "## Cách nhập xuất dữ liệu"
   ]
  },
  {
   "cell_type": "markdown",
   "id": "0f202ae8",
   "metadata": {},
   "source": [
    "### Xuất dữ liệu ra màn hình\n",
    "Để in các nội dung mà chúng ta mong muốn ra màn hình, ta sử dụng lệnh print()"
   ]
  },
  {
   "cell_type": "code",
   "execution_count": null,
   "id": "a6d3f260",
   "metadata": {},
   "outputs": [],
   "source": [
    "# Ví dụ: In ra nội dung \"python is very easy\"\n",
    "print('python is very easy')"
   ]
  },
  {
   "cell_type": "markdown",
   "id": "7733925a",
   "metadata": {},
   "source": [
    "### Các cách custom với lệnh print"
   ]
  },
  {
   "cell_type": "markdown",
   "id": "292ab570",
   "metadata": {},
   "source": [
    "Để in một nội dung kèm theo giá trị của biến, ta có các cách sau:"
   ]
  },
  {
   "cell_type": "code",
   "execution_count": 3,
   "id": "20ff912c",
   "metadata": {},
   "outputs": [],
   "source": [
    "food_1 = \"chocolate\"\n",
    "food_2 = \"sandwich\"\n",
    "\n",
    "# I love chocolate and I hate sandwich\n",
    "# \"I love\" --food_1-- \"and I hate\" --food_2--"
   ]
  },
  {
   "cell_type": "code",
   "execution_count": null,
   "id": "6407a448",
   "metadata": {},
   "outputs": [],
   "source": [
    "# In trực tiếp\n",
    " print('I love chocolate and I hate sandwich')"
   ]
  },
  {
   "cell_type": "code",
   "execution_count": null,
   "id": "27d098b8",
   "metadata": {},
   "outputs": [],
   "source": [
    "# In bằng cách ghép các nội dung với nhau\n",
    "print('I love', food_1, 'and I hate', food_2)"
   ]
  },
  {
   "cell_type": "code",
   "execution_count": 7,
   "id": "717666f2",
   "metadata": {},
   "outputs": [
    {
     "name": "stdout",
     "output_type": "stream",
     "text": [
      "I love chocolate and I hate sandwich\n"
     ]
    }
   ],
   "source": [
    "# Sử dụng String Format\n",
    "print(f\"I love {food_1} and I hate {food_2}\")\n",
    "# f la viet tat cua format, lay gia tri cuar bien bo vao phan ngoac nhon"
   ]
  },
  {
   "cell_type": "code",
   "execution_count": 6,
   "id": "c7276e05",
   "metadata": {},
   "outputs": [
    {
     "name": "stdout",
     "output_type": "stream",
     "text": [
      "I love chocolate and I hate sandwich\n"
     ]
    }
   ],
   "source": [
    "# Sử dụng nhiều lệnh print\n",
    "print('I love ', end='')\n",
    "print(food_1, end='')\n",
    "print(' and I hate ', end='')\n",
    "print(food_2)"
   ]
  },
  {
   "cell_type": "markdown",
   "id": "e10788fb",
   "metadata": {},
   "source": [
    "### Nhập dữ liệu\n",
    "Để nhập dữ liệu vào chương trình python, chúng ta sử dụng hàm input()"
   ]
  },
  {
   "cell_type": "code",
   "execution_count": 9,
   "id": "b8b8afd3",
   "metadata": {},
   "outputs": [
    {
     "name": "stdout",
     "output_type": "stream",
     "text": [
      "Input your name : Thien\n",
      "Thien\n",
      "<class 'str'>\n",
      "Input a random number : 4560\n",
      "4560.0\n",
      "<class 'float'>\n"
     ]
    }
   ],
   "source": [
    "# Du lieu trong ham input luon la kieu str\n",
    "name = input(\"Input your name : \")\n",
    "print(name)\n",
    "print(type(name))\n",
    "\n",
    "# Muon tuy chinh kieu du lieu mong muon:\n",
    "number = float(input(\"Input a random number : \"))\n",
    "print(number)\n",
    "print(type(number))"
   ]
  },
  {
   "cell_type": "markdown",
   "id": "337f9c15",
   "metadata": {},
   "source": [
    "#### Thực hành: Viết chương trình nhập vào chiều dài và chiều rộng của hình chữ nhật, sau đó in ra chu vi và diện tích của hình chữ nhật đó"
   ]
  },
  {
   "cell_type": "code",
   "execution_count": 10,
   "id": "add68103",
   "metadata": {},
   "outputs": [
    {
     "name": "stdout",
     "output_type": "stream",
     "text": [
      "Nhap chieu dai : 25\n",
      "Nhap chieu rong : 14\n"
     ]
    }
   ],
   "source": [
    "# Nhập các kích thước của hình chữ nhật\n",
    "a = int(input('Nhap chieu dai : '))\n",
    "b = int(input('Nhap chieu rong : '))"
   ]
  },
  {
   "cell_type": "code",
   "execution_count": 11,
   "id": "7a1cd73e",
   "metadata": {},
   "outputs": [],
   "source": [
    "# Tính toán chu vi, diện tích\n",
    "c = (a + b) * 2\n",
    "s = a * b"
   ]
  },
  {
   "cell_type": "code",
   "execution_count": 14,
   "id": "d0adf735",
   "metadata": {},
   "outputs": [
    {
     "name": "stdout",
     "output_type": "stream",
     "text": [
      "Chu vi la 78 , dien tich la 350\n",
      "Chu vi la 78, dien tich la 350\n",
      "Chu vi la 78, dien tich la 350\n"
     ]
    }
   ],
   "source": [
    "# In kết quả ra màn hình bằng 3 cách\n",
    "# Cach 1\n",
    "print('Chu vi la',c, ', dien tich la', s)\n",
    "# Cach 2\n",
    "print(f\"Chu vi la {c}, dien tich la {s}\")\n",
    "# Cach 3\n",
    "print('Chu vi la', end=' ')\n",
    "print(c,end=', ')\n",
    "print('dien tich la', end=' ')\n",
    "print(s)"
   ]
  },
  {
   "cell_type": "markdown",
   "id": "fb54cb77",
   "metadata": {},
   "source": [
    "#### Thực hành: Viết chương trình nhập vào số đo cạnh và mã màu của tam giác đều, sau đó sử dụng turtle để vẽ ra hình tam giác có số đo và màu tương ứng"
   ]
  },
  {
   "cell_type": "code",
   "execution_count": 23,
   "id": "7583b308",
   "metadata": {},
   "outputs": [
    {
     "name": "stdout",
     "output_type": "stream",
     "text": [
      "So do 1 canh: 100\n",
      "Nhap ma mau : 000000\n"
     ]
    }
   ],
   "source": [
    "x = int(input('So do 1 canh: '))\n",
    "color = input('Nhap ma mau : ')\n",
    "\n",
    "import turtle\n",
    "pen = turtle.Turtle()\n",
    "\n",
    "pen.fillcolor('#'+color)\n",
    "pen.begin_fill()\n",
    "\n",
    "pen.circle(-x ,steps=3)\n",
    "pen.end_fill()\n",
    "turtle.done()"
   ]
  },
  {
   "cell_type": "markdown",
   "id": "fa7cb208",
   "metadata": {},
   "source": [
    "## Cú pháp import"
   ]
  },
  {
   "cell_type": "markdown",
   "id": "ab2a2ea5",
   "metadata": {},
   "source": [
    "Để sử dụng một module từ bên ngoài, chúng ta sẽ sử dụng từ khóa import. Sau đây là ví dụ về một số cách import phổ biến."
   ]
  },
  {
   "cell_type": "markdown",
   "id": "bd6de377",
   "metadata": {},
   "source": [
    "### Random một giá trị ngẫu nhiên"
   ]
  },
  {
   "cell_type": "code",
   "execution_count": null,
   "id": "ce5547f5",
   "metadata": {},
   "outputs": [],
   "source": []
  },
  {
   "cell_type": "markdown",
   "id": "dfa93dc0",
   "metadata": {},
   "source": [
    "### Thực hiện các phép toán số học"
   ]
  },
  {
   "cell_type": "code",
   "execution_count": 8,
   "id": "4f06f722",
   "metadata": {},
   "outputs": [],
   "source": [
    "# import toàn bộ module\n",
    "import turtle"
   ]
  },
  {
   "cell_type": "code",
   "execution_count": null,
   "id": "6b9e471b",
   "metadata": {},
   "outputs": [],
   "source": [
    "# import một phần trong module\n",
    "from turtle import Turtle"
   ]
  },
  {
   "cell_type": "markdown",
   "id": "391969e7",
   "metadata": {},
   "source": [
    "## Xử lý String trong python"
   ]
  },
  {
   "cell_type": "markdown",
   "id": "ab461669",
   "metadata": {},
   "source": [
    "### String là gì?\n",
    "String là một chuỗi gồm các ký tự Unicode"
   ]
  },
  {
   "cell_type": "markdown",
   "id": "94a27b90",
   "metadata": {},
   "source": [
    "### Khởi tạo một string"
   ]
  },
  {
   "cell_type": "code",
   "execution_count": 24,
   "id": "b14f4fcc",
   "metadata": {},
   "outputs": [],
   "source": [
    "# one-line string\n",
    "name = 'Luong Hoang Chi Thien'"
   ]
  },
  {
   "cell_type": "code",
   "execution_count": 25,
   "id": "9cc506a7",
   "metadata": {},
   "outputs": [],
   "source": [
    "# multi-line string\n",
    "detail = '''\n",
    "Luong Hoang Chis thien\n",
    "Lop YTCC 17\n",
    "MSSV 411170219'''"
   ]
  },
  {
   "cell_type": "markdown",
   "id": "8f4270fd",
   "metadata": {},
   "source": [
    "### Các thao tác phổ biến với string"
   ]
  },
  {
   "cell_type": "code",
   "execution_count": 27,
   "id": "c825f890",
   "metadata": {},
   "outputs": [
    {
     "name": "stdout",
     "output_type": "stream",
     "text": [
      "21\n",
      "50\n"
     ]
    }
   ],
   "source": [
    "# Kiểm tra độ dài string\n",
    "print(len(name))\n",
    "print(len(detail))"
   ]
  },
  {
   "cell_type": "code",
   "execution_count": 28,
   "id": "6de96621",
   "metadata": {},
   "outputs": [
    {
     "name": "stdout",
     "output_type": "stream",
     "text": [
      "w\n",
      "r\n"
     ]
    }
   ],
   "source": [
    "# Truy xuất ký tự bằng cơ chế indexing và reverse indexing\n",
    "content = 'hello world'\n",
    "print(content[6])\n",
    "print(content[-3])"
   ]
  },
  {
   "cell_type": "markdown",
   "id": "a4f949d9",
   "metadata": {},
   "source": [
    "#### Thực hành: Viết chương trình nhập vào một chuỗi bất kỳ, sau đó in ra ký tự đầu tiên và ký tự cuối cùng của chuỗi đó."
   ]
  },
  {
   "cell_type": "code",
   "execution_count": 33,
   "id": "14833f18",
   "metadata": {},
   "outputs": [
    {
     "name": "stdout",
     "output_type": "stream",
     "text": [
      "Nhap chuoi : omg look at her\n",
      "Ky tu dau tien : o\n",
      "Ky tu cuoi cung : r\n",
      "Ky tu cuoi cung : r\n"
     ]
    }
   ],
   "source": [
    "contents = input('Nhap chuoi : ')\n",
    "print('Ky tu dau tien :', contents[0])\n",
    "print('Ky tu cuoi cung :', contents[-1])\n",
    "print('Ky tu cuoi cung :', contents[len(contents) - 1])"
   ]
  },
  {
   "cell_type": "code",
   "execution_count": 32,
   "id": "9aad2f16",
   "metadata": {},
   "outputs": [
    {
     "name": "stdout",
     "output_type": "stream",
     "text": [
      "n\n",
      "t\n"
     ]
    }
   ],
   "source": [
    "# Cắt string theo index"
   ]
  },
  {
   "cell_type": "code",
   "execution_count": null,
   "id": "6ec63f90",
   "metadata": {},
   "outputs": [],
   "source": [
    "# Ghép chuỗi và lặp chuỗi"
   ]
  },
  {
   "cell_type": "markdown",
   "id": "84c2dcb9",
   "metadata": {},
   "source": [
    "#### Thực hành: Xử lý và in ra các thông tin tương ứng trong chuỗi"
   ]
  },
  {
   "cell_type": "code",
   "execution_count": null,
   "id": "cd71f135",
   "metadata": {},
   "outputs": [],
   "source": []
  },
  {
   "cell_type": "markdown",
   "id": "7cbd965f",
   "metadata": {},
   "source": [
    "### Các hàm thông dụng khi xử lý string"
   ]
  },
  {
   "cell_type": "code",
   "execution_count": null,
   "id": "eb5932a1",
   "metadata": {},
   "outputs": [],
   "source": [
    "# len"
   ]
  },
  {
   "cell_type": "code",
   "execution_count": null,
   "id": "6bef6d33",
   "metadata": {},
   "outputs": [],
   "source": [
    "# count"
   ]
  },
  {
   "cell_type": "code",
   "execution_count": null,
   "id": "1582bbd8",
   "metadata": {},
   "outputs": [],
   "source": [
    "# upper, lower"
   ]
  },
  {
   "cell_type": "code",
   "execution_count": null,
   "id": "0d08f708",
   "metadata": {},
   "outputs": [],
   "source": [
    "# lstrip, rstrip, strip"
   ]
  },
  {
   "cell_type": "code",
   "execution_count": null,
   "id": "62180d52",
   "metadata": {},
   "outputs": [],
   "source": [
    "# split"
   ]
  },
  {
   "cell_type": "markdown",
   "id": "032ba1fc",
   "metadata": {},
   "source": []
  }
 ],
 "metadata": {
  "kernelspec": {
   "display_name": "Python 3 (ipykernel)",
   "language": "python",
   "name": "python3"
  },
  "language_info": {
   "codemirror_mode": {
    "name": "ipython",
    "version": 3
   },
   "file_extension": ".py",
   "mimetype": "text/x-python",
   "name": "python",
   "nbconvert_exporter": "python",
   "pygments_lexer": "ipython3",
   "version": "3.10.2"
  }
 },
 "nbformat": 4,
 "nbformat_minor": 5
}
