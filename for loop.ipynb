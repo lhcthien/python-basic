{
 "cells": [
  {
   "cell_type": "markdown",
   "id": "33f9d7a5",
   "metadata": {},
   "source": [
    "# Cấu trúc lặp for trong python"
   ]
  },
  {
   "attachments": {
    "image.png": {
     "image/png": "[encoded data removed]"
    }
   },
   "cell_type": "markdown",
   "id": "f64c9eae",
   "metadata": {},
   "source": [
    "## Review: Vẽ kim tự tháp\n",
    "![image.png](attachment:image.png)"
   ]
  },
  {
   "cell_type": "code",
   "execution_count": 19,
   "id": "ffcb1603",
   "metadata": {},
   "outputs": [],
   "source": [
    "import turtle\n",
    "pen = turtle.Turtle()\n",
    "pen.speed(10)\n",
    "pen.circle(10, steps= 3)\n",
    "pen.circle(20, steps= 3)\n",
    "pen.circle(30, steps= 3)\n",
    "pen.circle(40, steps= 3)\n",
    "pen.circle(50, steps= 3)\n",
    "turtle.done()"
   ]
  },
  {
   "cell_type": "markdown",
   "id": "35ef7a35",
   "metadata": {},
   "source": [
    "## for kết hợp với hàm range()"
   ]
  },
  {
   "cell_type": "markdown",
   "id": "80e01298",
   "metadata": {},
   "source": [
    "### Trường hợp 1 tham số"
   ]
  },
  {
   "cell_type": "code",
   "execution_count": 20,
   "id": "b56eadb4",
   "metadata": {},
   "outputs": [
    {
     "name": "stdout",
     "output_type": "stream",
     "text": [
      "0\n",
      "1\n",
      "2\n",
      "3\n",
      "4\n",
      "5\n",
      "6\n",
      "7\n",
      "8\n",
      "9\n",
      "10\n"
     ]
    }
   ],
   "source": [
    "for i in range(11):\n",
    "    print(i)"
   ]
  },
  {
   "cell_type": "markdown",
   "id": "b4eb03ed",
   "metadata": {},
   "source": [
    "### Ví dụ: In các số lẻ từ 0 đến 100"
   ]
  },
  {
   "cell_type": "code",
   "execution_count": 21,
   "id": "f73caa14",
   "metadata": {},
   "outputs": [
    {
     "name": "stdout",
     "output_type": "stream",
     "text": [
      "1\n",
      "3\n",
      "5\n",
      "7\n",
      "9\n",
      "11\n",
      "13\n",
      "15\n",
      "17\n",
      "19\n",
      "21\n",
      "23\n",
      "25\n",
      "27\n",
      "29\n",
      "31\n",
      "33\n",
      "35\n",
      "37\n",
      "39\n",
      "41\n",
      "43\n",
      "45\n",
      "47\n",
      "49\n",
      "51\n",
      "53\n",
      "55\n",
      "57\n",
      "59\n",
      "61\n",
      "63\n",
      "65\n",
      "67\n",
      "69\n",
      "71\n",
      "73\n",
      "75\n",
      "77\n",
      "79\n",
      "81\n",
      "83\n",
      "85\n",
      "87\n",
      "89\n",
      "91\n",
      "93\n",
      "95\n",
      "97\n",
      "99\n"
     ]
    }
   ],
   "source": [
    "for i in range(101):\n",
    "    if not i%2==0:\n",
    "        print(i)"
   ]
  },
  {
   "cell_type": "markdown",
   "id": "5b4c7f1c",
   "metadata": {},
   "source": [
    "### Trường hợp 2 tham số"
   ]
  },
  {
   "cell_type": "code",
   "execution_count": null,
   "id": "ab369d26",
   "metadata": {},
   "outputs": [],
   "source": [
    "# range(star, end, step)\n",
    "for i in range(10,21):\n",
    "    print(i)"
   ]
  },
  {
   "cell_type": "markdown",
   "id": "06853353",
   "metadata": {},
   "source": [
    "### Ví dụ: In các số chia hết cho 7 từ a đến b"
   ]
  },
  {
   "cell_type": "code",
   "execution_count": 22,
   "id": "7b21bcdf",
   "metadata": {},
   "outputs": [
    {
     "name": "stdout",
     "output_type": "stream",
     "text": [
      "1505\n",
      "1512\n",
      "1519\n",
      "1526\n",
      "1533\n",
      "1540\n",
      "1547\n",
      "1554\n",
      "1561\n",
      "1568\n",
      "1575\n",
      "1582\n",
      "1589\n",
      "1596\n"
     ]
    }
   ],
   "source": [
    "a=1500\n",
    "b=1600\n",
    "for i in range(a,(b+1)):\n",
    "    if i%7==0:\n",
    "        print(i)\n"
   ]
  },
  {
   "cell_type": "markdown",
   "id": "5f784920",
   "metadata": {},
   "source": [
    "### Trường hợp 3 tham số"
   ]
  },
  {
   "cell_type": "code",
   "execution_count": 28,
   "id": "f6b32018",
   "metadata": {},
   "outputs": [],
   "source": [
    "# range(start, end, step), neu muon dao nguoc chuoi range(start, end, -step)\n",
    "for i in range(11, 1, -1):\n",
    "    print(i)"
   ]
  },
  {
   "cell_type": "markdown",
   "id": "a4c0fc85",
   "metadata": {},
   "source": [
    "### Ví dụ: Biểu diễn cấp số cộng"
   ]
  },
  {
   "cell_type": "code",
   "execution_count": 29,
   "id": "9e9a5cbf",
   "metadata": {},
   "outputs": [
    {
     "name": "stdout",
     "output_type": "stream",
     "text": [
      "0\n",
      "4\n",
      "8\n",
      "12\n",
      "16\n",
      "20\n",
      "24\n",
      "28\n",
      "32\n",
      "36\n",
      "40\n",
      "44\n",
      "48\n",
      "52\n",
      "56\n",
      "60\n",
      "64\n",
      "68\n",
      "72\n",
      "76\n",
      "80\n",
      "84\n",
      "88\n",
      "92\n",
      "96\n",
      "100\n"
     ]
    }
   ],
   "source": [
    "for i in range(0,101,4):\n",
    "    print(i)"
   ]
  },
  {
   "cell_type": "markdown",
   "id": "a2a61887",
   "metadata": {},
   "source": [
    "## lặp qua một chuỗi"
   ]
  },
  {
   "cell_type": "code",
   "execution_count": 1,
   "id": "e495f392",
   "metadata": {},
   "outputs": [
    {
     "name": "stdout",
     "output_type": "stream",
     "text": [
      "6\n",
      "p\n",
      "y\n",
      "t\n",
      "h\n",
      "o\n",
      "n\n",
      "p-y-t-h-o-n-"
     ]
    }
   ],
   "source": [
    "course = \"python\"\n",
    "# Cach 1: kiem tra vi tri (index) cua tung ky tu trong chuoi\n",
    "print(len(course))\n",
    "for i in range(len(course)):\n",
    "    print(course[i])\n",
    "\n",
    "# Cach 2: duyet tung ky tu trong cuoi\n",
    "for c in course:\n",
    "    print(c, end = \"-\")"
   ]
  },
  {
   "cell_type": "markdown",
   "id": "a4013631",
   "metadata": {},
   "source": [
    "### Ví dụ: Đếm số lượng nguyên âm trong chuỗi"
   ]
  },
  {
   "cell_type": "code",
   "execution_count": 7,
   "id": "319bfb92",
   "metadata": {},
   "outputs": [
    {
     "name": "stdout",
     "output_type": "stream",
     "text": [
      "6\n",
      "12\n"
     ]
    }
   ],
   "source": [
    "name = \"day la mot chuoi\"\n",
    "count = 0\n",
    "for c in name:\n",
    "    if c=='u' or c=='e'or c=='o'or c=='a' or c=='i':\n",
    "        count +=1\n",
    "print(count)\n",
    "    \n"
   ]
  },
  {
   "cell_type": "code",
   "execution_count": null,
   "id": "79532ead",
   "metadata": {},
   "outputs": [],
   "source": [
    "name = \"day la mot chuoi\"\n",
    "count = 0\n",
    "\n",
    "for c in name:\n",
    "    if c in 'aeiou':\n",
    "        count +=1\n",
    "print(count)"
   ]
  },
  {
   "cell_type": "markdown",
   "id": "49bf78d3",
   "metadata": {},
   "source": [
    "## Lặp qua một danh sách chuỗi"
   ]
  },
  {
   "cell_type": "code",
   "execution_count": null,
   "id": "0a5874cf",
   "metadata": {},
   "outputs": [],
   "source": [
    "list_name = ['Luong','Hoang','Chi','Thien']\n",
    "for i in range(len(list_name)):\n",
    "    print(list_name[i])"
   ]
  },
  {
   "cell_type": "markdown",
   "id": "be1b5ba5",
   "metadata": {},
   "source": [
    "### Ví dụ: Tìm chuỗi dài nhất"
   ]
  },
  {
   "cell_type": "code",
   "execution_count": 39,
   "id": "d6e7ef2c",
   "metadata": {
    "scrolled": true
   },
   "outputs": [
    {
     "name": "stdout",
     "output_type": "stream",
     "text": [
      "noodles\n"
     ]
    }
   ],
   "source": [
    "food = ['chick', 'pork','beef','veggie','noodles']\n",
    "longest = len(food[0])\n",
    "foods = food[0]\n",
    "for i in range(len(food)):\n",
    "    if len(food[i]) > longest:\n",
    "        longest = len(food[i])\n",
    "        foods = food[i]\n",
    "print(foods)"
   ]
  },
  {
   "cell_type": "markdown",
   "id": "69fa4d9f",
   "metadata": {},
   "source": [
    "## Vòng lặp lồng nhau"
   ]
  },
  {
   "cell_type": "code",
   "execution_count": 41,
   "id": "864bc218",
   "metadata": {},
   "outputs": [
    {
     "name": "stdout",
     "output_type": "stream",
     "text": [
      "Nhap cao: 5\n",
      "+-*+-*+-*\n",
      "+-*+-*+-\n",
      "+-*+-*+\n",
      "+-*+-*\n",
      "+-*+-\n",
      "+-*+\n",
      "+-*\n",
      "+-\n",
      "+\n"
     ]
    }
   ],
   "source": [
    "'''\n",
    "+-*+-*\n",
    "+-*+-\n",
    "+-*\n",
    "+-\n",
    "+\n",
    "\n",
    "0,3,6:+\n",
    "1,4,7:-\n",
    "2,5,8:*\n",
    "'''\n",
    "\n",
    "    \n",
    "height = int(input('Nhap cao: '))\n",
    "for i in range(h,0,-1):\n",
    "    for j in range(i):\n",
    "        if j%3==1:\n",
    "            print('-', end='')\n",
    "        elif j%3==2:\n",
    "            print('*', end='')\n",
    "        else: print('+', end='')\n",
    "    print()"
   ]
  },
  {
   "cell_type": "code",
   "execution_count": null,
   "id": "ae37ce82",
   "metadata": {},
   "outputs": [],
   "source": []
  }
 ],
 "metadata": {
  "kernelspec": {
   "display_name": "Python 3 (ipykernel)",
   "language": "python",
   "name": "python3"
  },
  "language_info": {
   "codemirror_mode": {
    "name": "ipython",
    "version": 3
   },
   "file_extension": ".py",
   "mimetype": "text/x-python",
   "name": "python",
   "nbconvert_exporter": "python",
   "pygments_lexer": "ipython3",
   "version": "3.10.2"
  }
 },
 "nbformat": 4,
 "nbformat_minor": 5
}
