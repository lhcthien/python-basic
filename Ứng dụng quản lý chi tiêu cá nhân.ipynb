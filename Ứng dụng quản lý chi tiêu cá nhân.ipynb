{
 "cells": [
  {
   "cell_type": "markdown",
   "id": "7f86edbd",
   "metadata": {},
   "source": [
    "# Ứng dụng quản lý chi tiêu cá nhân"
   ]
  },
  {
   "cell_type": "code",
   "execution_count": 16,
   "id": "96712826",
   "metadata": {},
   "outputs": [
    {
     "name": "stdout",
     "output_type": "stream",
     "text": [
      "Your expenses: [{'name': 'hat', 'cost': 1000, 'date': '22'}]\n",
      "What do you want to do? -\n",
      "1. Add\n",
      "2. Remove\n",
      "Select option 1 or 2: 2\n",
      "Item name: hat\n",
      "Your expenses:  []\n"
     ]
    }
   ],
   "source": [
    "def add_item(myTempList, item):    \n",
    "    myTempList.append(item)\n",
    "\n",
    "def find_index_item(myTempList, item_name):\n",
    "    result = -1\n",
    "    length = len(myTempList)\n",
    "    for i in range(length):\n",
    "        if myTempList[i]['name'] == item_name:\n",
    "            result = i\n",
    "    return result\n",
    "\n",
    "def remove_item(myTempList, item_name):\n",
    "    if find_index_item(myTempList, item_name) > -1:\n",
    "        del myTempList[find_index_item(myTempList, item_name)]\n",
    "    else:\n",
    "        print(item_name + \" not in list\")\n",
    "\n",
    "print(\"Your expenses:\", expenses)\n",
    "\n",
    "print(\"What do you want to do? -\\n\"\\\n",
    "        \"1. Add\\n\" \\\n",
    "        \"2. Remove\")\n",
    "option = int(input(\"Select option 1 or 2: \"))\n",
    "\n",
    "\n",
    "if option == 1:\n",
    "    name_input = input(\"Item name: \")\n",
    "    cost_input = int(input(\"Item cost: \"))\n",
    "    date_input = input(\"Date: \")\n",
    "    item = {'name': name_input, 'cost':cost_input, 'date':date_input}\n",
    "    add_item(expenses, item)\n",
    "    print(\"Your expenses: \", expenses)\n",
    "elif option == 2:\n",
    "    name_input = input(\"Item name: \")\n",
    "    remove_item(expenses, name_input)\n",
    "    print(\"Your expenses: \", expenses)\n",
    "else:\n",
    "    print(\"Invalid input\")"
   ]
  }
 ],
 "metadata": {
  "kernelspec": {
   "display_name": "Python 3 (ipykernel)",
   "language": "python",
   "name": "python3"
  },
  "language_info": {
   "codemirror_mode": {
    "name": "ipython",
    "version": 3
   },
   "file_extension": ".py",
   "mimetype": "text/x-python",
   "name": "python",
   "nbconvert_exporter": "python",
   "pygments_lexer": "ipython3",
   "version": "3.10.2"
  }
 },
 "nbformat": 4,
 "nbformat_minor": 5
}
