{
 "cells": [
  {
   "cell_type": "markdown",
   "id": "fbeb233c",
   "metadata": {},
   "source": [
    "# Ve hinh xoan oc"
   ]
  },
  {
   "cell_type": "code",
   "execution_count": 58,
   "id": "48522472",
   "metadata": {},
   "outputs": [],
   "source": [
    "import turtle\n",
    "from math import dist"
   ]
  },
  {
   "cell_type": "code",
   "execution_count": 87,
   "id": "ddd7d9e1",
   "metadata": {
    "scrolled": false
   },
   "outputs": [
    {
     "name": "stdout",
     "output_type": "stream",
     "text": [
      "Enter radius: 100\n"
     ]
    }
   ],
   "source": [
    "pen = turtle.Turtle()\n",
    "pen.speed(5)\n",
    "n = float(input('Enter radius: '))\n",
    "size = 0.5\n",
    "home = [0.0,0.0]\n",
    "while True:      \n",
    "    point = pen.pos()\n",
    "    if math.dist(home, point) > n:        \n",
    "        turtle.done()\n",
    "        break\n",
    "    else: \n",
    "        pen.fd(size)\n",
    "        pen.rt(25) \n",
    "        size += 0.5"
   ]
  }
 ],
 "metadata": {
  "kernelspec": {
   "display_name": "Python 3 (ipykernel)",
   "language": "python",
   "name": "python3"
  },
  "language_info": {
   "codemirror_mode": {
    "name": "ipython",
    "version": 3
   },
   "file_extension": ".py",
   "mimetype": "text/x-python",
   "name": "python",
   "nbconvert_exporter": "python",
   "pygments_lexer": "ipython3",
   "version": "3.10.2"
  }
 },
 "nbformat": 4,
 "nbformat_minor": 5
}
