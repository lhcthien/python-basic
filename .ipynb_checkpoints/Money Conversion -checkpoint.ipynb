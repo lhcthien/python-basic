{
 "cells": [
  {
   "cell_type": "markdown",
   "id": "0fa35693",
   "metadata": {},
   "source": [
    "# Chuyen doi tien te VND/USD"
   ]
  },
  {
   "cell_type": "code",
   "execution_count": 3,
   "id": "505baab1",
   "metadata": {},
   "outputs": [
    {
     "name": "stdout",
     "output_type": "stream",
     "text": [
      "Nhap so tien USD: 100.99\n",
      "So tien VND la: 2307116.55\n"
     ]
    }
   ],
   "source": [
    "usd = float(input(\"Nhap so tien USD: \"))\n",
    "vnd = usd*22845\n",
    "print(\"So tien VND la:\",vnd)"
   ]
  },
  {
   "cell_type": "code",
   "execution_count": 2,
   "id": "d57377fc",
   "metadata": {},
   "outputs": [
    {
     "name": "stdout",
     "output_type": "stream",
     "text": [
      "So tien VND la: 22845000.0\n"
     ]
    }
   ],
   "source": []
  }
 ],
 "metadata": {
  "kernelspec": {
   "display_name": "Python 3 (ipykernel)",
   "language": "python",
   "name": "python3"
  },
  "language_info": {
   "codemirror_mode": {
    "name": "ipython",
    "version": 3
   },
   "file_extension": ".py",
   "mimetype": "text/x-python",
   "name": "python",
   "nbconvert_exporter": "python",
   "pygments_lexer": "ipython3",
   "version": "3.10.2"
  }
 },
 "nbformat": 4,
 "nbformat_minor": 5
}
