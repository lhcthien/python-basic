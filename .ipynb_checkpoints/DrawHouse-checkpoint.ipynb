{
 "cells": [
  {
   "cell_type": "markdown",
   "id": "5c6fbef3",
   "metadata": {},
   "source": [
    "# Them thu vien turtle"
   ]
  },
  {
   "cell_type": "code",
   "execution_count": 164,
   "id": "22956f76",
   "metadata": {},
   "outputs": [],
   "source": [
    "import turtle\n",
    "pen = turtle.Turtle()"
   ]
  },
  {
   "cell_type": "markdown",
   "id": "fcb926cd",
   "metadata": {},
   "source": [
    "# Hieu ung"
   ]
  },
  {
   "cell_type": "code",
   "execution_count": 165,
   "id": "eb823b08",
   "metadata": {},
   "outputs": [],
   "source": [
    "turtle.bgcolor('#B3D2E5')\n",
    "pen.speed(2)\n",
    "pen.pencolor('black')"
   ]
  },
  {
   "cell_type": "markdown",
   "id": "29c9dd1a",
   "metadata": {},
   "source": [
    "# Ve ngoi nha"
   ]
  },
  {
   "cell_type": "code",
   "execution_count": 166,
   "id": "9f327983",
   "metadata": {},
   "outputs": [],
   "source": [
    "\n",
    "pen.fillcolor('#d2c979')\n",
    "pen.begin_fill()\n",
    "for i in range(4):\n",
    "    pen.fd(200)\n",
    "    pen.rt(90)\n",
    "pen.lt(60)\n",
    "pen.fd(200)\n",
    "pen.rt(120)    \n",
    "pen.fd(200)\n",
    "pen.end_fill()\n",
    "\n",
    "pen.fillcolor('#bfb240')\n",
    "pen.begin_fill()\n",
    "pen.rt(180)\n",
    "pen.fd(200)\n",
    "pen.rt(120)\n",
    "pen.fd(100)\n",
    "pen.rt(60)\n",
    "pen.fd(200)\n",
    "pen.rt(120)\n",
    "pen.fd(100)\n",
    "       \n",
    "pen.lt(90)\n",
    "pen.fd(200)\n",
    "pen.lt(90)\n",
    "pen.fd(100)\n",
    "pen.lt(90)\n",
    "pen.fd(200)\n",
    "pen.lt(90)\n",
    "pen.fd(100)\n",
    "pen.end_fill()"
   ]
  },
  {
   "cell_type": "markdown",
   "id": "b644a0d0",
   "metadata": {},
   "source": [
    "# Ve cua"
   ]
  },
  {
   "cell_type": "code",
   "execution_count": 167,
   "id": "1867251e",
   "metadata": {},
   "outputs": [],
   "source": [
    "pen.penup()\n",
    "pen.home()\n",
    "pen.goto(225,-50)\n",
    "pen.fillcolor('#4D2719')\n",
    "pen.begin_fill()\n",
    "pen.pendown()\n",
    "for i in range(4):\n",
    "    pen.fd(50)\n",
    "    pen.rt(90)\n",
    "pen.end_fill()\n",
    "\n",
    "pen.penup()\n",
    "pen.goto(75,-200)\n",
    "pen.fillcolor('#BF6240')\n",
    "pen.begin_fill()\n",
    "pen.pendown()\n",
    "pen.lt(90)\n",
    "pen.fd(100)\n",
    "pen.rt(90)\n",
    "pen.fd(50)\n",
    "pen.rt(90)\n",
    "pen.fd(100)\n",
    "pen.end_fill()"
   ]
  },
  {
   "cell_type": "markdown",
   "id": "74161ce4",
   "metadata": {},
   "source": [
    "# Ve mat troi"
   ]
  },
  {
   "cell_type": "code",
   "execution_count": 168,
   "id": "2946c0df",
   "metadata": {},
   "outputs": [],
   "source": [
    "pen.penup()\n",
    "pen.home()\n",
    "pen.goto(-200,170)\n",
    "pen.fillcolor('#FFA000')\n",
    "pen.begin_fill()\n",
    "pen.pendown()\n",
    "pen.circle(35)\n",
    "pen.end_fill()"
   ]
  },
  {
   "cell_type": "markdown",
   "id": "117b262b",
   "metadata": {},
   "source": [
    "# Ve cay"
   ]
  },
  {
   "cell_type": "code",
   "execution_count": 169,
   "id": "149897aa",
   "metadata": {},
   "outputs": [],
   "source": [
    "pen.penup()\n",
    "pen.home()\n",
    "pen.goto(-250,-250)\n",
    "pen.fillcolor('#4d3a19')\n",
    "pen.pendown()\n",
    "pen.begin_fill()\n",
    "pen.fd(30)\n",
    "pen.lt(90)\n",
    "pen.fd(100)\n",
    "pen.lt(90)\n",
    "pen.fd(30)\n",
    "pen.lt(90)\n",
    "pen.fd(100)\n",
    "pen.end_fill()\n",
    "\n",
    "pen.penup()\n",
    "pen.fillcolor('#5d862d')\n",
    "\n",
    "pen.lt(90)\n",
    "pen.fd(15)\n",
    "pen.lt(90)\n",
    "pen.fd(95)\n",
    "pen.rt(90)\n",
    "pen.pendown()\n",
    "pen.begin_fill()\n",
    "pen.circle(80)\n",
    "pen.end_fill()\n",
    "\n",
    "##Ve cay thu 2\n",
    "pen.penup()\n",
    "pen.home()\n",
    "pen.goto(-150,-280)\n",
    "pen.fillcolor('#4d3a19')\n",
    "pen.pendown()\n",
    "pen.begin_fill()\n",
    "pen.fd(30)\n",
    "pen.lt(90)\n",
    "pen.fd(100)\n",
    "pen.lt(90)\n",
    "pen.fd(30)\n",
    "pen.lt(90)\n",
    "pen.fd(100)\n",
    "pen.end_fill()\n",
    "\n",
    "pen.penup()\n",
    "pen.fillcolor('#5d862d')\n",
    "\n",
    "pen.lt(90)\n",
    "pen.fd(15)\n",
    "pen.lt(90)\n",
    "pen.fd(95)\n",
    "pen.rt(90)\n",
    "pen.pendown()\n",
    "pen.begin_fill()\n",
    "pen.circle(80)\n",
    "pen.end_fill()\n"
   ]
  },
  {
   "cell_type": "markdown",
   "id": "0c51d25d",
   "metadata": {},
   "source": [
    "# Ket thuc"
   ]
  },
  {
   "cell_type": "code",
   "execution_count": 170,
   "id": "f8a08f30",
   "metadata": {},
   "outputs": [],
   "source": [
    "turtle.done()"
   ]
  }
 ],
 "metadata": {
  "kernelspec": {
   "display_name": "Python 3 (ipykernel)",
   "language": "python",
   "name": "python3"
  },
  "language_info": {
   "codemirror_mode": {
    "name": "ipython",
    "version": 3
   },
   "file_extension": ".py",
   "mimetype": "text/x-python",
   "name": "python",
   "nbconvert_exporter": "python",
   "pygments_lexer": "ipython3",
   "version": "3.10.2"
  }
 },
 "nbformat": 4,
 "nbformat_minor": 5
}
