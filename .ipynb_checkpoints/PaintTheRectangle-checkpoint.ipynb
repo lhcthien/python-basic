{
 "cells": [
  {
   "cell_type": "markdown",
   "id": "493902ce",
   "metadata": {},
   "source": [
    "# To mau hinh chu nhat"
   ]
  },
  {
   "cell_type": "code",
   "execution_count": 1,
   "id": "4ba96d5c",
   "metadata": {},
   "outputs": [],
   "source": [
    "import turtle\n",
    "pen = turtle.Turtle()"
   ]
  },
  {
   "cell_type": "code",
   "execution_count": 2,
   "id": "8336ac5b",
   "metadata": {},
   "outputs": [
    {
     "name": "stdout",
     "output_type": "stream",
     "text": [
      "Nhap mau hoac ma mau: black\n",
      "Nhap chieu dai: 25\n",
      "Nhap chieu rong: 50\n"
     ]
    }
   ],
   "source": [
    "color = input(\"Nhap mau hoac ma mau: \")\n",
    "w = float(input(\"Nhap chieu dai: \"))\n",
    "h = float(input(\"Nhap chieu rong: \"))"
   ]
  },
  {
   "cell_type": "code",
   "execution_count": 3,
   "id": "c86abd17",
   "metadata": {},
   "outputs": [
    {
     "name": "stdout",
     "output_type": "stream",
     "text": [
      "Chu vi hinh chu nhat la 150.0\n",
      "Dien tich hinh chu nhat la 1250.0\n"
     ]
    }
   ],
   "source": [
    "c = (w+h)*2\n",
    "s = w*h\n",
    "print(\"Chu vi hinh chu nhat la\",c)\n",
    "print(\"Dien tich hinh chu nhat la\",s)"
   ]
  },
  {
   "cell_type": "code",
   "execution_count": 5,
   "id": "8596c1fb",
   "metadata": {},
   "outputs": [],
   "source": [
    "pen.color(color)\n",
    "pen.begin_fill()\n",
    "\n",
    "pen.forward(w)\n",
    "pen.right(90)\n",
    "pen.forward(h)\n",
    "pen.right(90)\n",
    "pen.forward(w)\n",
    "pen.right(90)\n",
    "pen.forward(h)\n",
    "pen.right(90)\n",
    "\n",
    "pen.end_fill()\n",
    "turtle.done()"
   ]
  }
 ],
 "metadata": {
  "kernelspec": {
   "display_name": "Python 3 (ipykernel)",
   "language": "python",
   "name": "python3"
  },
  "language_info": {
   "codemirror_mode": {
    "name": "ipython",
    "version": 3
   },
   "file_extension": ".py",
   "mimetype": "text/x-python",
   "name": "python",
   "nbconvert_exporter": "python",
   "pygments_lexer": "ipython3",
   "version": "3.10.2"
  }
 },
 "nbformat": 4,
 "nbformat_minor": 5
}
