{
 "cells": [
  {
   "cell_type": "markdown",
   "id": "90571d36",
   "metadata": {},
   "source": [
    "# The 21 game"
   ]
  },
  {
   "cell_type": "code",
   "execution_count": 34,
   "id": "5edaa43c",
   "metadata": {},
   "outputs": [
    {
     "name": "stdout",
     "output_type": "stream",
     "text": [
      "current_number: 0\n",
      "computer_choice: 1\n",
      "current_number: 1\n",
      "Input a number 1-3: 3\n",
      "current_number: 4\n",
      "computer_choice: 1\n",
      "current_number: 5\n",
      "Input a number 1-3: 3\n",
      "current_number: 8\n",
      "computer_choice: 3\n",
      "current_number: 11\n",
      "Input a number 1-3: 3\n",
      "current_number: 14\n",
      "computer_choice: 2\n",
      "current_number: 16\n",
      "Input a number 1-3: 3\n",
      "current_number: 19\n",
      "computer_choice: 2\n",
      "Player wins\n",
      "Play again (y/n): 3\n",
      "Play again (y/n): 3\n",
      "current_number: 0\n",
      "computer_choice: 1\n",
      "current_number: 1\n",
      "Input a number 1-3: 3\n",
      "current_number: 4\n",
      "computer_choice: 3\n",
      "current_number: 7\n",
      "Input a number 1-3: 3\n",
      "current_number: 10\n",
      "computer_choice: 1\n",
      "current_number: 11\n",
      "Input a number 1-3: 3\n",
      "current_number: 14\n",
      "computer_choice: 1\n",
      "current_number: 15\n",
      "Input a number 1-3: 3\n",
      "current_number: 18\n",
      "computer_choice: 1\n",
      "current_number: 19\n",
      "Input a number 1-3: \n",
      "Input a number 1-3: 3\n",
      "current_number: 19\n",
      "computer_choice: 2\n",
      "Player wins\n",
      "Play again (y/n): n\n"
     ]
    }
   ],
   "source": [
    "from random import randint\n",
    "\n",
    "while True:\n",
    "    current_number = 0\n",
    "    randint(0, 1)\n",
    "    if randint == 0:\n",
    "        current_player  = 'human'\n",
    "    else: current_player  = 'computer'\n",
    "    while current_number <= 21:\n",
    "        print(f'current_number: {current_number}')\n",
    "        if current_player  == 'human':\n",
    "            player_choice = input('Input a number 1-3: ')\n",
    "            if player_choice in ['1' , '2' , '3']:\n",
    "                current_number += int(player_choice)\n",
    "            else:player_choice = input('Input a number 1-3: ')\n",
    "            #current_number += int(player_choice)\n",
    "            print(f'current_number: {current_number}')\n",
    "            if current_number >= 21:\n",
    "                    print('Player loses')\n",
    "                    break\n",
    "            else: current_player  = 'computer'\n",
    "        if current_player  == 'computer':\n",
    "            computer_choice = randint(1,3)\n",
    "            print(f'computer_choice: {computer_choice}')\n",
    "            current_number += computer_choice\n",
    "            if current_number >= 21:\n",
    "                print('Player wins')\n",
    "                break\n",
    "            else: current_player  = 'human'\n",
    "    play_again = input('Play again (y/n): ')\n",
    "    if play_again == 'y':\n",
    "        continue\n",
    "    else:\n",
    "        break\n",
    "    "
   ]
  },
  {
   "cell_type": "code",
   "execution_count": null,
   "id": "0a010fc8",
   "metadata": {},
   "outputs": [],
   "source": []
  }
 ],
 "metadata": {
  "kernelspec": {
   "display_name": "Python 3 (ipykernel)",
   "language": "python",
   "name": "python3"
  },
  "language_info": {
   "codemirror_mode": {
    "name": "ipython",
    "version": 3
   },
   "file_extension": ".py",
   "mimetype": "text/x-python",
   "name": "python",
   "nbconvert_exporter": "python",
   "pygments_lexer": "ipython3",
   "version": "3.10.2"
  }
 },
 "nbformat": 4,
 "nbformat_minor": 5
}
