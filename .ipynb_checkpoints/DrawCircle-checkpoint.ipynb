{
 "cells": [
  {
   "cell_type": "markdown",
   "id": "ad6b889e",
   "metadata": {},
   "source": [
    "# Vẽ hình tròn"
   ]
  },
  {
   "cell_type": "markdown",
   "id": "acc41917",
   "metadata": {},
   "source": [
    "## Cai dat thu vien turtle"
   ]
  },
  {
   "cell_type": "code",
   "execution_count": 32,
   "id": "a8cf0a1e",
   "metadata": {},
   "outputs": [],
   "source": [
    "import turtle"
   ]
  },
  {
   "cell_type": "code",
   "execution_count": 34,
   "id": "68a9d124",
   "metadata": {},
   "outputs": [],
   "source": [
    "pen = turtle.Turtle()"
   ]
  },
  {
   "cell_type": "markdown",
   "id": "41cbdf02",
   "metadata": {},
   "source": [
    "## Tuy chinh pen"
   ]
  },
  {
   "cell_type": "code",
   "execution_count": 35,
   "id": "ae4786fb",
   "metadata": {},
   "outputs": [],
   "source": [
    "pen.pensize(3)\n",
    "pen.fillcolor('green')\n",
    "pen.pencolor('red')\n",
    "pen.speed(2)"
   ]
  },
  {
   "cell_type": "markdown",
   "id": "5cf9a0ac",
   "metadata": {},
   "source": [
    "## Ve hinh tron"
   ]
  },
  {
   "cell_type": "code",
   "execution_count": 36,
   "id": "0420917e",
   "metadata": {},
   "outputs": [],
   "source": [
    "pen.begin_fill()\n",
    "pen.goto(0,-150)\n",
    "pen.circle(200)\n",
    "pen.end_fill()"
   ]
  },
  {
   "cell_type": "code",
   "execution_count": 37,
   "id": "048b3c9a",
   "metadata": {},
   "outputs": [],
   "source": [
    "pen.penup()\n",
    "pen.goto(20,20)\n",
    "pen.fillcolor('yellow')\n",
    "pen.pendown()\n",
    "pen.begin_fill()\n",
    "pen.circle(100)\n",
    "pen.end_fill()"
   ]
  },
  {
   "cell_type": "markdown",
   "id": "c927739f",
   "metadata": {},
   "source": [
    "## Ket thuc ve"
   ]
  },
  {
   "cell_type": "code",
   "execution_count": null,
   "id": "d8585af5",
   "metadata": {},
   "outputs": [],
   "source": [
    "turtle.done()"
   ]
  }
 ],
 "metadata": {
  "kernelspec": {
   "display_name": "Python 3 (ipykernel)",
   "language": "python",
   "name": "python3"
  },
  "language_info": {
   "codemirror_mode": {
    "name": "ipython",
    "version": 3
   },
   "file_extension": ".py",
   "mimetype": "text/x-python",
   "name": "python",
   "nbconvert_exporter": "python",
   "pygments_lexer": "ipython3",
   "version": "3.10.2"
  }
 },
 "nbformat": 4,
 "nbformat_minor": 5
}
