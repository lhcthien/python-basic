{
 "cells": [
  {
   "cell_type": "markdown",
   "id": "553c5586",
   "metadata": {},
   "source": [
    "# Hien thi thong tin don hang"
   ]
  },
  {
   "cell_type": "code",
   "execution_count": 4,
   "id": "4faa8267",
   "metadata": {},
   "outputs": [
    {
     "name": "stdout",
     "output_type": "stream",
     "text": [
      "Nhap so tien: 76\n",
      "So tien phai thanh toan:  61 $\n"
     ]
    }
   ],
   "source": [
    "price = int(input(\"Nhap so tien: \"))\n",
    "if price >= 150:\n",
    "    print(\"So tien phai thanh toan: \", price - 50,'$')\n",
    "elif price >= 100:\n",
    "    print(\"So tien phai thanh toan: \", price - 25,'$')\n",
    "elif price >= 75:\n",
    "    print(\"So tien phai thanh toan: \", price - 15,'$')\n",
    "else:\n",
    "    print(\"So tien phai thanh toan: \", price,'$')"
   ]
  }
 ],
 "metadata": {
  "kernelspec": {
   "display_name": "Python 3 (ipykernel)",
   "language": "python",
   "name": "python3"
  },
  "language_info": {
   "codemirror_mode": {
    "name": "ipython",
    "version": 3
   },
   "file_extension": ".py",
   "mimetype": "text/x-python",
   "name": "python",
   "nbconvert_exporter": "python",
   "pygments_lexer": "ipython3",
   "version": "3.10.2"
  }
 },
 "nbformat": 4,
 "nbformat_minor": 5
}
