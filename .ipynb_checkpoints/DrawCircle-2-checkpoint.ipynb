{
 "cells": [
  {
   "cell_type": "markdown",
   "id": "9414a8a7",
   "metadata": {},
   "source": [
    "# Ve hinh tron va tinh dien tich + chu vi"
   ]
  },
  {
   "cell_type": "code",
   "execution_count": 1,
   "id": "777700c3",
   "metadata": {},
   "outputs": [],
   "source": [
    "import turtle\n",
    "pen = turtle.Turtle()"
   ]
  },
  {
   "cell_type": "code",
   "execution_count": 2,
   "id": "4d6bd615",
   "metadata": {},
   "outputs": [
    {
     "name": "stdout",
     "output_type": "stream",
     "text": [
      "Nhap chieu dai 1 canh : 50\n"
     ]
    }
   ],
   "source": [
    "r = float(input(\"Nhap chieu dai 1 canh : \"))"
   ]
  },
  {
   "cell_type": "code",
   "execution_count": 3,
   "id": "3b319a7c",
   "metadata": {},
   "outputs": [],
   "source": [
    "c = r*2*3.1415\n",
    "s = r*r*3.1415"
   ]
  },
  {
   "cell_type": "code",
   "execution_count": 4,
   "id": "a313ed65",
   "metadata": {},
   "outputs": [
    {
     "name": "stdout",
     "output_type": "stream",
     "text": [
      "Chu vi hinh tron la 314.15000000000003\n",
      "Dien tich hinh tron la 7853.75\n"
     ]
    }
   ],
   "source": [
    "print(f\"Chu vi hinh tron la {c}\")\n",
    "print(f\"Dien tich hinh tron la {s}\")"
   ]
  },
  {
   "cell_type": "code",
   "execution_count": 5,
   "id": "a8b71389",
   "metadata": {},
   "outputs": [],
   "source": [
    "pen.pensize(0.5)\n",
    "pen.speed(5)\n",
    "pen.color(\"green\")\n",
    "pen.circle(r)\n",
    "turtle.done()"
   ]
  }
 ],
 "metadata": {
  "kernelspec": {
   "display_name": "Python 3 (ipykernel)",
   "language": "python",
   "name": "python3"
  },
  "language_info": {
   "codemirror_mode": {
    "name": "ipython",
    "version": 3
   },
   "file_extension": ".py",
   "mimetype": "text/x-python",
   "name": "python",
   "nbconvert_exporter": "python",
   "pygments_lexer": "ipython3",
   "version": "3.10.2"
  }
 },
 "nbformat": 4,
 "nbformat_minor": 5
}
