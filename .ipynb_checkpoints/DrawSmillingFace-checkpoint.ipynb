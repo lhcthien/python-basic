{
 "cells": [
  {
   "cell_type": "markdown",
   "id": "58a39219",
   "metadata": {},
   "source": [
    "# Ve mat cuoi"
   ]
  },
  {
   "cell_type": "markdown",
   "id": "94f97d9d",
   "metadata": {},
   "source": [
    "## Import thu vien turtle"
   ]
  },
  {
   "cell_type": "code",
   "execution_count": 27,
   "id": "c60484b7",
   "metadata": {},
   "outputs": [],
   "source": [
    "import turtle\n",
    "\n",
    "pen = turtle.Turtle()"
   ]
  },
  {
   "cell_type": "markdown",
   "id": "49c57e86",
   "metadata": {},
   "source": [
    "## Tuy chinh pen"
   ]
  },
  {
   "cell_type": "code",
   "execution_count": 28,
   "id": "77cab71c",
   "metadata": {},
   "outputs": [],
   "source": [
    "#define pen size\n",
    "pen.pensize(2) \n",
    " \n",
    "#define pen color\n",
    "pen.pencolor(\"#512DA8\")\n",
    "\n",
    "pen.speed(2)"
   ]
  },
  {
   "cell_type": "markdown",
   "id": "553a8af7",
   "metadata": {},
   "source": [
    "## Ve vong tron lon"
   ]
  },
  {
   "cell_type": "code",
   "execution_count": 30,
   "id": "6e8dbdf3",
   "metadata": {},
   "outputs": [],
   "source": [
    "facesize = 220\n",
    "pen.penup()\n",
    "pen.fillcolor('#ffeb3b')\n",
    "pen.goto(0, -200)\n",
    "pen.pendown()\n",
    "pen.begin_fill()\n",
    "pen.circle(facesize)\n",
    "pen.end_fill()"
   ]
  },
  {
   "cell_type": "markdown",
   "id": "c478fa7f",
   "metadata": {},
   "source": [
    "## Ve mat"
   ]
  },
  {
   "cell_type": "code",
   "execution_count": 31,
   "id": "59387742",
   "metadata": {},
   "outputs": [],
   "source": [
    "#Màu nền mắt \n",
    "pen.fillcolor (\"#4d2719\")\n",
    "pen.penup()\n",
    "pen.goto(-100,50)\n",
    "pen.pendown()\n",
    " \n",
    "#bien eyesize\n",
    "eye_size = 19.5\n",
    " \n",
    "pen.begin_fill()\n",
    "pen.circle(eye_size)\n",
    "pen.end_fill()\n",
    "pen.penup()\n",
    " \n",
    "pen.goto(100,50)\n",
    "pen.pendown()\n",
    "pen.begin_fill()\n",
    "pen.circle(eye_size)\n",
    "pen.end_fill()"
   ]
  },
  {
   "cell_type": "markdown",
   "id": "5d745310",
   "metadata": {},
   "source": [
    "## Ve mui"
   ]
  },
  {
   "cell_type": "code",
   "execution_count": 32,
   "id": "15ccf096",
   "metadata": {},
   "outputs": [],
   "source": [
    "pen.penup ()\n",
    "pen.fillcolor('#5d4037')\n",
    "pen.goto(0,30)\n",
    "pen.pendown()\n",
    "pen.begin_fill()\n",
    "pen.circle(-50, steps=3)\n",
    "pen.end_fill()"
   ]
  },
  {
   "cell_type": "markdown",
   "id": "059fefce",
   "metadata": {},
   "source": [
    "## Ve mieng"
   ]
  },
  {
   "cell_type": "code",
   "execution_count": 33,
   "id": "67f8ac57",
   "metadata": {},
   "outputs": [],
   "source": [
    "pen.penup()\n",
    "pen.goto(-100, -70)\n",
    "pen.pendown()\n",
    "pen.right(90)\n",
    "pen.circle(100,180)\n",
    "turtle.mainloop()"
   ]
  },
  {
   "cell_type": "code",
   "execution_count": 34,
   "id": "c9c7826c",
   "metadata": {},
   "outputs": [
    {
     "ename": "Terminator",
     "evalue": "",
     "output_type": "error",
     "traceback": [
      "\u001b[1;31m---------------------------------------------------------------------------\u001b[0m",
      "\u001b[1;31mTerminator\u001b[0m                                Traceback (most recent call last)",
      "Input \u001b[1;32mIn [34]\u001b[0m, in \u001b[0;36m<module>\u001b[1;34m\u001b[0m\n\u001b[1;32m----> 1\u001b[0m \u001b[43mturtle\u001b[49m\u001b[38;5;241;43m.\u001b[39;49m\u001b[43mdone\u001b[49m\u001b[43m(\u001b[49m\u001b[43m)\u001b[49m\n",
      "File \u001b[1;32m<string>:5\u001b[0m, in \u001b[0;36mmainloop\u001b[1;34m()\u001b[0m\n",
      "\u001b[1;31mTerminator\u001b[0m: "
     ]
    }
   ],
   "source": [
    "turtle.done()"
   ]
  }
 ],
 "metadata": {
  "kernelspec": {
   "display_name": "Python 3 (ipykernel)",
   "language": "python",
   "name": "python3"
  },
  "language_info": {
   "codemirror_mode": {
    "name": "ipython",
    "version": 3
   },
   "file_extension": ".py",
   "mimetype": "text/x-python",
   "name": "python",
   "nbconvert_exporter": "python",
   "pygments_lexer": "ipython3",
   "version": "3.10.2"
  }
 },
 "nbformat": 4,
 "nbformat_minor": 5
}
