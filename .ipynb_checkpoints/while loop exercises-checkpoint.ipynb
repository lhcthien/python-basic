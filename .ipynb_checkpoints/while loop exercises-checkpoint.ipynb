{
 "cells": [
  {
   "cell_type": "code",
   "execution_count": 27,
   "id": "272a3a95",
   "metadata": {},
   "outputs": [
    {
     "name": "stdout",
     "output_type": "stream",
     "text": [
      "1505\n",
      "1540\n",
      "1575\n",
      "1610\n",
      "1645\n",
      "1680\n",
      "1715\n",
      "1750\n",
      "1785\n",
      "1820\n",
      "1855\n",
      "1890\n",
      "1925\n",
      "1960\n",
      "1995\n",
      "2030\n",
      "2065\n",
      "2100\n",
      "2135\n",
      "2170\n",
      "2205\n",
      "2240\n",
      "2275\n",
      "2310\n",
      "2345\n",
      "2380\n",
      "2415\n",
      "2450\n",
      "2485\n",
      "2520\n",
      "2555\n",
      "2590\n",
      "2625\n",
      "2660\n",
      "2695\n"
     ]
    }
   ],
   "source": [
    "'''\n",
    "Khởi động 1: Viết chương trình in ra tất cả các số chia hết cho cả 5 và 7 trong khoảng từ 1500 đến 2700\n",
    "'''\n",
    "i = 1500\n",
    "while i<=2700:\n",
    "    if i%5==0 and i%7==0:\n",
    "        print(i)\n",
    "    i +=1"
   ]
  },
  {
   "cell_type": "code",
   "execution_count": null,
   "id": "18dbe371",
   "metadata": {},
   "outputs": [],
   "source": []
  },
  {
   "cell_type": "code",
   "execution_count": 1,
   "id": "87f74c6c",
   "metadata": {},
   "outputs": [
    {
     "name": "stdout",
     "output_type": "stream",
     "text": [
      "Nhap chieu cao: 10\n",
      "**********\n",
      "*********\n",
      "********\n",
      "*******\n",
      "******\n",
      "*****\n",
      "****\n",
      "***\n",
      "**\n",
      "*\n"
     ]
    }
   ],
   "source": [
    "'''\n",
    "Bài 1: Viết chương trình nhập vào chiều cao tam giác vuông và in ra tam giác có hình dạng như sau:\n",
    "*****\n",
    "****\n",
    "***\n",
    "** \n",
    "*\n",
    "'''\n",
    "\n",
    "h = int(input('Nhap chieu cao: '))\n",
    "i = h\n",
    "\n",
    "while i >= 1:\n",
    "    print('*' * (i))\n",
    "    i -= 1"
   ]
  },
  {
   "cell_type": "code",
   "execution_count": 30,
   "id": "ea4c14a8",
   "metadata": {},
   "outputs": [
    {
     "name": "stdout",
     "output_type": "stream",
     "text": [
      "Nhap chieu cao: 5\n",
      "* * * * * *\n",
      "* * * * *\n",
      "* * * *\n",
      "* * *\n",
      "* *\n",
      "*\n"
     ]
    }
   ],
   "source": [
    "'''\n",
    "Bài 2: Viết chương trình nhập vào chiều cao tam giác vuông và in ra tam giác có hình dạng như sau:\n",
    "* * * * * *\n",
    "* * * * *\n",
    "* * * *\n",
    "* * *\n",
    "* *\n",
    "*\n",
    "'''\n",
    "h = int(input('Nhap chieu cao: '))\n",
    "i = h -1\n",
    "\n",
    "while i >= 0:\n",
    "    print('* ' * (i - 1) + '*')\n",
    "    i -= 1"
   ]
  },
  {
   "cell_type": "code",
   "execution_count": 28,
   "id": "bd17e085",
   "metadata": {
    "collapsed": true
   },
   "outputs": [
    {
     "name": "stdout",
     "output_type": "stream",
     "text": [
      "Nhap chieu cao: 5\n",
      "* - * - * \n",
      "* - * - \n",
      "* - * \n",
      "* - \n",
      "* \n"
     ]
    }
   ],
   "source": [
    "'''\n",
    "Bài 3: Viết chương trình nhập vào chiều cao tam giác vuông và in ra tam giác có hình dạng như sau:\n",
    "* - * - *\n",
    "* - * -\n",
    "* - *\n",
    "* -\n",
    "*\n",
    "'''\n",
    "h = int(input('Nhap chieu cao: '))\n",
    "# txt = '* -'\n",
    "i = h \n",
    "\n",
    "while i >= 1:\n",
    "    j=0\n",
    "    while j < i:\n",
    "        if j%2==0:\n",
    "            print('*', end=' ')\n",
    "        else:\n",
    "            print('-', end =' ')\n",
    "        j +=1\n",
    "    print()\n",
    "    \n",
    "    i -= 1"
   ]
  },
  {
   "cell_type": "code",
   "execution_count": 29,
   "id": "7aea2183",
   "metadata": {
    "collapsed": true
   },
   "outputs": [
    {
     "name": "stdout",
     "output_type": "stream",
     "text": [
      "nhap chieu cao: 5\n",
      "* - * - *\n",
      "* - * - \n",
      "* - *\n",
      "* - \n",
      "*\n",
      "\n"
     ]
    }
   ],
   "source": [
    "height = int(input(\"nhap chieu cao: \"))\n",
    "i = height\n",
    "while i >= 0:\n",
    "    if i %2 != 0:\n",
    "        print((i//2)*'* - '+'*')\n",
    "        i = i - 1\n",
    "    else:\n",
    "        print((i//2)*'* - ')\n",
    "        i = i - 1\n"
   ]
  },
  {
   "cell_type": "code",
   "execution_count": 32,
   "id": "a69a9352",
   "metadata": {
    "collapsed": true
   },
   "outputs": [
    {
     "name": "stdout",
     "output_type": "stream",
     "text": [
      "Chiều cao tam giác vuông: 6\n",
      "* - * - * - \n",
      "* - * - *\n",
      "* - * - \n",
      "* - *\n",
      "* - \n",
      "*\n"
     ]
    }
   ],
   "source": [
    "# quy luật của string\n",
    "l = int(input(\"Chiều cao tam giác vuông: \"))\n",
    "i = l\n",
    "string = \"* - \"\n",
    "while i >= 1:\n",
    "    print(string*(i//2) + string[0:i%2]) \n",
    "    i -= 1\n"
   ]
  },
  {
   "cell_type": "code",
   "execution_count": null,
   "id": "59765084",
   "metadata": {},
   "outputs": [],
   "source": []
  },
  {
   "cell_type": "code",
   "execution_count": 40,
   "id": "105b66bc",
   "metadata": {},
   "outputs": [
    {
     "name": "stdout",
     "output_type": "stream",
     "text": [
      "So n = 25\n",
      "1\n",
      "2\n",
      "py\n",
      "4\n",
      "5\n",
      "py\n",
      "thon\n",
      "8\n",
      "py\n",
      "10\n",
      "11\n",
      "py\n",
      "13\n",
      "thon\n",
      "py\n",
      "16\n",
      "17\n",
      "py\n",
      "19\n",
      "20\n",
      "py\n",
      "22\n",
      "23\n",
      "py\n",
      "25\n"
     ]
    }
   ],
   "source": [
    "'''\n",
    "Bài 4: Viết chương trình nhập vào một số nguyên n và in ra các số từ 1 đến n \n",
    "với các trường hợp ngoại lệ như sau:\n",
    "- Nếu số đó chia hết cho 3 thì in \"py\"\n",
    "- Nếu số đó chia hết cho 7 thì in \"thon\"\n",
    "- Nếu số đó chia hết cho cả 3 và 7 thì in \"python\"\n",
    "\n",
    "Ví dụ: n = 25\n",
    "1\n",
    "2\n",
    "py\n",
    "4\n",
    "5\n",
    "py\n",
    "thon\n",
    "8\n",
    "py\n",
    "10\n",
    "11\n",
    "py\n",
    "13\n",
    "thon\n",
    "py\n",
    "16\n",
    "17\n",
    "py\n",
    "19\n",
    "20\n",
    "python\n",
    "22\n",
    "23\n",
    "py\n",
    "25\n",
    "'''\n",
    "i = 1\n",
    "n = int(input('So n = '))\n",
    "while i<=n :\n",
    "    if i%3==0 :\n",
    "        print('py')\n",
    "    elif i%7==0 :\n",
    "        print('thon')\n",
    "    elif i%3==0 and i%7==0:\n",
    "        print('python')\n",
    "    elif not (i%3==0 and i%7==0):\n",
    "        print(i)\n",
    "    i +=1"
   ]
  },
  {
   "cell_type": "code",
   "execution_count": 16,
   "id": "3689744c",
   "metadata": {},
   "outputs": [
    {
     "name": "stdout",
     "output_type": "stream",
     "text": [
      "So n = 73\n",
      "2 so nguyen to\n",
      "3 so nguyen to\n",
      "4 khong phai so nguyen to\n",
      "5 so nguyen to\n",
      "6 khong phai so nguyen to\n",
      "7 so nguyen to\n",
      "8 khong phai so nguyen to\n",
      "9 khong phai so nguyen to\n",
      "10 khong phai so nguyen to\n",
      "11 so nguyen to\n",
      "12 khong phai so nguyen to\n",
      "13 so nguyen to\n",
      "14 khong phai so nguyen to\n",
      "15 khong phai so nguyen to\n",
      "16 khong phai so nguyen to\n",
      "17 so nguyen to\n",
      "18 khong phai so nguyen to\n",
      "19 so nguyen to\n",
      "20 khong phai so nguyen to\n",
      "21 khong phai so nguyen to\n",
      "22 khong phai so nguyen to\n",
      "23 so nguyen to\n",
      "24 khong phai so nguyen to\n",
      "25 khong phai so nguyen to\n",
      "26 khong phai so nguyen to\n",
      "27 khong phai so nguyen to\n",
      "28 khong phai so nguyen to\n",
      "29 so nguyen to\n",
      "30 khong phai so nguyen to\n",
      "31 so nguyen to\n",
      "32 khong phai so nguyen to\n",
      "33 khong phai so nguyen to\n",
      "34 khong phai so nguyen to\n",
      "35 khong phai so nguyen to\n",
      "36 khong phai so nguyen to\n",
      "37 so nguyen to\n",
      "38 khong phai so nguyen to\n",
      "39 khong phai so nguyen to\n",
      "40 khong phai so nguyen to\n",
      "41 so nguyen to\n",
      "42 khong phai so nguyen to\n",
      "43 so nguyen to\n",
      "44 khong phai so nguyen to\n",
      "45 khong phai so nguyen to\n",
      "46 khong phai so nguyen to\n",
      "47 so nguyen to\n",
      "48 khong phai so nguyen to\n",
      "49 so nguyen to\n",
      "50 khong phai so nguyen to\n",
      "51 khong phai so nguyen to\n",
      "52 khong phai so nguyen to\n",
      "53 so nguyen to\n",
      "54 khong phai so nguyen to\n",
      "55 khong phai so nguyen to\n",
      "56 khong phai so nguyen to\n",
      "57 khong phai so nguyen to\n",
      "58 khong phai so nguyen to\n",
      "59 so nguyen to\n",
      "60 khong phai so nguyen to\n",
      "61 so nguyen to\n",
      "62 khong phai so nguyen to\n",
      "63 khong phai so nguyen to\n",
      "64 khong phai so nguyen to\n",
      "65 khong phai so nguyen to\n",
      "66 khong phai so nguyen to\n",
      "67 so nguyen to\n",
      "68 khong phai so nguyen to\n",
      "69 khong phai so nguyen to\n",
      "70 khong phai so nguyen to\n",
      "71 so nguyen to\n",
      "72 khong phai so nguyen to\n",
      "73 so nguyen to\n"
     ]
    }
   ],
   "source": [
    "'''\n",
    "Bài 5: Viết chương trình nhập vào một số và kiểm tra xem từ 2 đến số đó \n",
    "có phải là số nguyên tố hay không\n",
    "Note: Số nguyên tố là số chỉ chia hết cho 1 và chính nó\n",
    "'''\n",
    "n = int(input('So n = '))\n",
    "i =2\n",
    "while i<=n: \n",
    "    if not(i%2==0 or i%3==0 or i%5==0) or (i==2 or i==3 or i==5):\n",
    "        print(f'{i} so nguyen to')\n",
    "    else:\n",
    "        print(f'{i} khong phai so nguyen to')\n",
    "    i +=1"
   ]
  },
  {
   "cell_type": "code",
   "execution_count": 19,
   "id": "727b4119",
   "metadata": {},
   "outputs": [
    {
     "name": "stdout",
     "output_type": "stream",
     "text": [
      "Nhập số nguyên n: 21\n",
      "21 khong phai so nguyen to\n"
     ]
    }
   ],
   "source": [
    "n = int(input(\"Nhập số nguyên n: \"))\n",
    "i = 2\n",
    "\n",
    "while i < n:\n",
    "    print(i)\n",
    "    if n%i==0:\n",
    "        print(f'{n} khong phai so nguyen to')\n",
    "        break\n",
    "    i +=1\n",
    "if i==n:\n",
    "    print(f'{n} la phai so nguyen to')"
   ]
  },
  {
   "cell_type": "code",
   "execution_count": null,
   "id": "a1ff8c3c",
   "metadata": {},
   "outputs": [],
   "source": []
  },
  {
   "cell_type": "code",
   "execution_count": 56,
   "id": "d76fa311",
   "metadata": {},
   "outputs": [
    {
     "name": "stdout",
     "output_type": "stream",
     "text": [
      "Mời lựa chọn(1 - búa, 2 - kéo, 3 - bao): 2\n"
     ]
    },
    {
     "ename": "NameError",
     "evalue": "name 'pi' is not defined",
     "output_type": "error",
     "traceback": [
      "\u001b[1;31m---------------------------------------------------------------------------\u001b[0m",
      "\u001b[1;31mNameError\u001b[0m                                 Traceback (most recent call last)",
      "Input \u001b[1;32mIn [56]\u001b[0m, in \u001b[0;36m<module>\u001b[1;34m\u001b[0m\n\u001b[0;32m     26\u001b[0m     \u001b[38;5;28mprint\u001b[39m(\u001b[38;5;124m'\u001b[39m\u001b[38;5;124mMáy tính chọn:\u001b[39m\u001b[38;5;124m'\u001b[39m,i)\n\u001b[0;32m     27\u001b[0m     \u001b[38;5;28mprint\u001b[39m\n\u001b[1;32m---> 28\u001b[0m \u001b[38;5;28;01mif\u001b[39;00m \u001b[43mpi\u001b[49m:\n\u001b[0;32m     29\u001b[0m     \u001b[38;5;28mprint\u001b[39m(\u001b[38;5;124m'\u001b[39m\u001b[38;5;124mMáy tính chọn:\u001b[39m\u001b[38;5;124m'\u001b[39m,i)\n\u001b[0;32m     30\u001b[0m     \u001b[38;5;28mprint\u001b[39m(\u001b[38;5;124m'\u001b[39m\u001b[38;5;124mNgười chơi thắng.\u001b[39m\u001b[38;5;124m'\u001b[39m)\n",
      "\u001b[1;31mNameError\u001b[0m: name 'pi' is not defined"
     ]
    }
   ],
   "source": [
    "'''\n",
    "Bài 6: Viết chương trình mô phỏng trò chơi kéo búa bao theo luật chơi như sau:\n",
    "Quy ước: 1 - búa, 2 - kéo, 3 - bao\n",
    "Khi trò chơi bắt đầu, yêu cầu người chơi nhập 1 số từ bàn phím đại diện cho kéo, búa, bao\n",
    "Chương trình tự random ra một lựa chọn từ 1 đến 3.\n",
    "Nếu người chơi thua thì tiếp tục chơi cho đến khi thắng thì kết thúc chương trình.\n",
    "Ví dụ:\n",
    "\n",
    "Mời lựa chọn(1 - búa, 2 - kéo, 3 - bao): 1\n",
    "Máy tính chọn: 3\n",
    "Người chơi thua.\n",
    "\n",
    "Mời lựa chọn(1 - búa, 2 - kéo, 3 - bao): 2\n",
    "Máy tính chọn: 1\n",
    "Người chơi thua.\n",
    "\n",
    "Mời lựa chọn(1 - búa, 2 - kéo, 3 - bao): 1\n",
    "Máy tính chọn: 2\n",
    "Người chơi thắng.\n",
    "'''\n",
    "import random\n",
    "pick = int(input('Mời lựa chọn(1 - búa, 2 - kéo, 3 - bao): '))\n",
    "i = random.randint(1, 3)\n",
    "while i in range(3) :\n",
    "    if pick == 3 and i  :\n",
    "        print('Máy tính chọn:',i)\n",
    "        print\n",
    "    if pick:\n",
    "        print('Máy tính chọn:',i)\n",
    "        print('Người chơi thắng.')\n",
    "        break\n"
   ]
  },
  {
   "cell_type": "code",
   "execution_count": 26,
   "id": "92d3f4f8",
   "metadata": {},
   "outputs": [
    {
     "name": "stdout",
     "output_type": "stream",
     "text": [
      "Nhập số 1 - búa, 2 - kéo, 3 - bao: 3\n",
      "Máy tính chọn: 3\n",
      "Hòa.\n",
      "Nhập số 1 - búa, 2 - kéo, 3 - bao: 3\n",
      "Máy tính chọn: 2\n",
      "Người chơi thua.\n",
      "Nhập số 1 - búa, 2 - kéo, 3 - bao: 3\n",
      "Máy tính chọn: 3\n",
      "Hòa.\n",
      "Nhập số 1 - búa, 2 - kéo, 3 - bao: 3\n",
      "Máy tính chọn: 1\n",
      "Người chơi thắng.\n"
     ]
    }
   ],
   "source": [
    "from random import randint\n",
    "x = 0\n",
    "while x == 0:\n",
    "    i = int(input(\"Nhập số 1 - búa, 2 - kéo, 3 - bao: \"))\n",
    "    j = randint(1,3)\n",
    "    print('Máy tính chọn:',j)\n",
    "\n",
    "    \n",
    "    \n",
    "#     if (i == 1 and j == 2) or (i == 2 and j == 3) or (i == 3 and j == 2) :\n",
    "#         print('Người chơi thắng.')\n",
    "#         break\n",
    "#      elif (i == 1 and j == 1) or (i == 2 and j == 2) or (i == 3 and j == 3) :\n",
    "#          print('Hòa.')\n",
    "#          continue\n",
    "#     else:\n",
    "#         print('Người chơi thua.')\n",
    "#         continue \n",
    "\n",
    "\n",
    "    if i > 1 and j-i==1:\n",
    "        print('Người chơi thắng.')\n",
    "        break\n",
    "    elif i == 3 and j == 1:\n",
    "        print('Người chơi thắng.')\n",
    "        break\n",
    "    elif i == j:\n",
    "        print('Hòa.')\n",
    "    else:\n",
    "        print('Người chơi thua.')"
   ]
  }
 ],
 "metadata": {
  "kernelspec": {
   "display_name": "Python 3 (ipykernel)",
   "language": "python",
   "name": "python3"
  },
  "language_info": {
   "codemirror_mode": {
    "name": "ipython",
    "version": 3
   },
   "file_extension": ".py",
   "mimetype": "text/x-python",
   "name": "python",
   "nbconvert_exporter": "python",
   "pygments_lexer": "ipython3",
   "version": "3.10.2"
  }
 },
 "nbformat": 4,
 "nbformat_minor": 5
}
