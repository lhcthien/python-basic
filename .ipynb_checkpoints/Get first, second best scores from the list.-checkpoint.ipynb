{
 "cells": [
  {
   "cell_type": "code",
   "execution_count": 12,
   "id": "a0a1e8f5",
   "metadata": {},
   "outputs": [
    {
     "name": "stdout",
     "output_type": "stream",
     "text": [
      "[2, 4, 4, 7, 7, 8, 9, 9, 43]\n",
      "First best scores: 43\n",
      "Second best scores: 9\n"
     ]
    }
   ],
   "source": [
    "lst = [9,7,43,2,4,7,8,9,4]\n",
    "\n",
    "temp = sorted(lst)\n",
    "print(temp)\n",
    "first = temp[-1]    \n",
    "print(f'First best scores: {first}')\n",
    "\n",
    "second = temp[-2] \n",
    "print(f'Second best scores: {second}')\n",
    "\n",
    "\n"
   ]
  }
 ],
 "metadata": {
  "kernelspec": {
   "display_name": "Python 3 (ipykernel)",
   "language": "python",
   "name": "python3"
  },
  "language_info": {
   "codemirror_mode": {
    "name": "ipython",
    "version": 3
   },
   "file_extension": ".py",
   "mimetype": "text/x-python",
   "name": "python",
   "nbconvert_exporter": "python",
   "pygments_lexer": "ipython3",
   "version": "3.10.2"
  }
 },
 "nbformat": 4,
 "nbformat_minor": 5
}
