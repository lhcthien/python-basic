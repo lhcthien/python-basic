{
 "cells": [
  {
   "cell_type": "code",
   "execution_count": 1,
   "id": "334dfc6d",
   "metadata": {},
   "outputs": [],
   "source": [
    "from tkinter import *"
   ]
  },
  {
   "cell_type": "markdown",
   "id": "4c559a90",
   "metadata": {},
   "source": [
    "## pack\n",
    "\n",
    "Lệnh `pack()` sẽ giúp sắp xếp các đối tượng theo thứ tự nhất định"
   ]
  },
  {
   "cell_type": "code",
   "execution_count": null,
   "id": "d6af98e3",
   "metadata": {},
   "outputs": [],
   "source": [
    "windows = Tk()\n",
    "windows.title('Registration')\n",
    "# Label\n",
    "registration_text = Label(windows, text = 'Registration')\n",
    "fullname_text = Label(windows, text = 'Full name')\n",
    "address_text = Label(windows, text = 'Address')\n",
    "email_text = Label(windows, text = 'Email')\n",
    "#Entry\n",
    "fullname_input = Entry(windows)\n",
    "address_input = Entry(windows)\n",
    "email_input = Entry(windows)\n",
    "# Button\n",
    "resgister_button = Button(windows, text = 'Register')\n",
    "# Pack\n",
    "registration_text.pack()\n",
    "fullname_text.pack()\n",
    "fullname_input.pack()\n",
    "address_text.pack()\n",
    "address_input.pack()\n",
    "email_text.pack()\n",
    "email_input.pack()\n",
    "resgister_button.pack()\n",
    "# Run\n",
    "windows.mainloop()"
   ]
  },
  {
   "cell_type": "markdown",
   "id": "0093b00d",
   "metadata": {},
   "source": [
    "## grid"
   ]
  },
  {
   "cell_type": "code",
   "execution_count": 6,
   "id": "d89cd306",
   "metadata": {},
   "outputs": [],
   "source": [
    "windows = Tk()\n",
    "windows.title('Registration')\n",
    "# Label\n",
    "registration_text = Label(windows, text = 'Registration')\n",
    "fullname_text = Label(windows, text = 'Full name')\n",
    "address_text = Label(windows, text = 'Address')\n",
    "email_text = Label(windows, text = 'Email')\n",
    "#Entry\n",
    "fullname_input = Entry(windows)\n",
    "address_input = Entry(windows)\n",
    "email_input = Entry(windows)\n",
    "# Button\n",
    "resgister_button = Button(windows, text = 'Register')\n",
    "login_button = Button(windows, text = 'Login')\n",
    "# Grid\n",
    "registration_text.grid(column = 0,row = 0, columnspan = 2)\n",
    "fullname_text.grid(column = 0,row = 1)\n",
    "fullname_input.grid(column = 1,row = 1)\n",
    "address_text.grid(column = 0,row = 2)\n",
    "address_input.grid(column = 1,row = 2)\n",
    "email_text.grid(column = 0,row = 3)\n",
    "email_input.grid(column = 1,row = 3)\n",
    "resgister_button.grid(column = 4,row = 4)\n",
    "login_button.grid(column =3, row = 4)\n",
    "# Run\n",
    "windows.mainloop()"
   ]
  },
  {
   "cell_type": "markdown",
   "id": "f0a05577",
   "metadata": {},
   "source": [
    "## place"
   ]
  },
  {
   "cell_type": "code",
   "execution_count": 18,
   "id": "070e6374",
   "metadata": {},
   "outputs": [],
   "source": [
    "windows = Tk()\n",
    "windows.title('Registration')\n",
    "# Label\n",
    "registration_text = Label(windows, text = 'Registration')\n",
    "fullname_text = Label(windows, text = 'Full name')\n",
    "address_text = Label(windows, text = 'Address')\n",
    "email_text = Label(windows, text = 'Email')\n",
    "#Entry\n",
    "fullname_input = Entry(windows)\n",
    "address_input = Entry(windows)\n",
    "email_input = Entry(windows)\n",
    "# Button\n",
    "resgister_button = Button(windows, text = 'Register')\n",
    "login_button = Button(windows, text = 'Login')\n",
    "# Place\n",
    "registration_text.place(x = 75, y = 0)\n",
    "fullname_text.place(x = 20, y = 30)\n",
    "fullname_input.place(x = 90, y = 30)\n",
    "address_text.place(x = 20, y = 70)\n",
    "address_input.place(x = 90, y = 70)\n",
    "email_text.place(x = 20, y = 110)\n",
    "email_input.place(x = 90, y = 110)\n",
    "resgister_button.place(x = 130, y = 140)\n",
    "login_button.place(x = 70, y = 140)\n",
    "# Run\n",
    "windows.mainloop()"
   ]
  }
 ],
 "metadata": {
  "kernelspec": {
   "display_name": "Python 3 (ipykernel)",
   "language": "python",
   "name": "python3"
  },
  "language_info": {
   "codemirror_mode": {
    "name": "ipython",
    "version": 3
   },
   "file_extension": ".py",
   "mimetype": "text/x-python",
   "name": "python",
   "nbconvert_exporter": "python",
   "pygments_lexer": "ipython3",
   "version": "3.10.2"
  }
 },
 "nbformat": 4,
 "nbformat_minor": 5
}
