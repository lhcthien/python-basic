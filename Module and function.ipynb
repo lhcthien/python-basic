{
 "cells": [
  {
   "cell_type": "markdown",
   "id": "05948314",
   "metadata": {},
   "source": [
    "# Function"
   ]
  },
  {
   "cell_type": "code",
   "execution_count": 4,
   "id": "a0ff00b4",
   "metadata": {
    "scrolled": true
   },
   "outputs": [
    {
     "name": "stdout",
     "output_type": "stream",
     "text": [
      "Nhap ten: a\n",
      "Nhap ten: b\n",
      "Nhap ten: c\n",
      "a, b, c\n"
     ]
    }
   ],
   "source": [
    "# Nhap vao ten cua 3 hoc vien khac nhau va in ra ten 3 hoc vien\n",
    "\n",
    "ten1 = input('Nhap ten: ')\n",
    "ten2 = input('Nhap ten: ')\n",
    "ten3 = input('Nhap ten: ')\n",
    "print(ten1, ten2, ten3, sep=', ')"
   ]
  },
  {
   "cell_type": "code",
   "execution_count": 8,
   "id": "62cc3837",
   "metadata": {},
   "outputs": [
    {
     "name": "stdout",
     "output_type": "stream",
     "text": [
      "Nhap ten: 12\n",
      "12\n",
      "Nhap ten: 345\n",
      "345\n",
      "Nhap ten: 56723\n",
      "56723\n",
      "5\n"
     ]
    }
   ],
   "source": [
    "# Viet chuong trinh nhap ten 3 hoc vien va in ra ten 3hv, sau do cho biet ten dai nhat co bn ky tu\n",
    "\n",
    "for i in range(3):\n",
    "    ten = input('Nhap ten: ')\n",
    "    print(ten)\n",
    "    a=0\n",
    "    if len(ten)>0:\n",
    "        a = len(ten)\n",
    "print(a)"
   ]
  },
  {
   "cell_type": "markdown",
   "id": "3b68247e",
   "metadata": {},
   "source": [
    "## Function(hàm) là gì?"
   ]
  },
  {
   "cell_type": "markdown",
   "id": "cf84a685",
   "metadata": {},
   "source": [
    "Hàm (function) là một khối lệnh đặc biệt, nó được đặt tên, giúp mã chương trình dễ đọc hơn, và có thể gọi để sử dụng ở các nơi khác nhau trong chương trình. Hàm chính là khối lệnh có thể tái sử dụng (reuseable)."
   ]
  },
  {
   "cell_type": "markdown",
   "id": "3636c8b1",
   "metadata": {},
   "source": [
    "### Hàm\n",
    "\n",
    "Cú pháp:\n",
    "\n",
    "`def <tên hàm>(<tham số)>:\n",
    "    //Nội dung hàm`\n",
    "\n",
    "Gọi hàm:\n",
    "`<tên hàm>(<giá trị đầu vào>)`"
   ]
  },
  {
   "cell_type": "markdown",
   "id": "18f95aa8",
   "metadata": {},
   "source": [
    "### Ví dụ: Hàm in"
   ]
  },
  {
   "cell_type": "code",
   "execution_count": null,
   "id": "0753ca43",
   "metadata": {},
   "outputs": [],
   "source": []
  },
  {
   "cell_type": "markdown",
   "id": "29c55e2b",
   "metadata": {},
   "source": [
    "### Ví dụ: Hàm tính giá trị tuyệt đối"
   ]
  },
  {
   "cell_type": "code",
   "execution_count": null,
   "id": "e492700a",
   "metadata": {},
   "outputs": [],
   "source": [
    "abs(-2)"
   ]
  },
  {
   "cell_type": "markdown",
   "id": "07fa617d",
   "metadata": {},
   "source": [
    "### Ví dụ: Hàm vẽ hình tròn"
   ]
  },
  {
   "cell_type": "code",
   "execution_count": null,
   "id": "2a2dec85",
   "metadata": {},
   "outputs": [],
   "source": []
  },
  {
   "cell_type": "markdown",
   "id": "c4575e29",
   "metadata": {},
   "source": [
    "## Xây dựng và sử dụng hàm trong python"
   ]
  },
  {
   "cell_type": "markdown",
   "id": "00ac6720",
   "metadata": {},
   "source": [
    "### Hàm say_hello"
   ]
  },
  {
   "cell_type": "code",
   "execution_count": 9,
   "id": "47575691",
   "metadata": {},
   "outputs": [],
   "source": [
    "#tao ham say_hello() de in hello world ra man hinh \n",
    "def say_hello():\n",
    "    print('Hello World')"
   ]
  },
  {
   "cell_type": "code",
   "execution_count": 10,
   "id": "4a8c359e",
   "metadata": {},
   "outputs": [
    {
     "name": "stdout",
     "output_type": "stream",
     "text": [
      "Hello World\n"
     ]
    }
   ],
   "source": [
    "say_hello()"
   ]
  },
  {
   "cell_type": "markdown",
   "id": "f9b6f894",
   "metadata": {},
   "source": [
    "### Hàm vẽ cây thông"
   ]
  },
  {
   "cell_type": "code",
   "execution_count": null,
   "id": "0994ceed",
   "metadata": {},
   "outputs": [],
   "source": [
    "def draw_tree():\n",
    "    from turtle import Turtle\n",
    "\n",
    "    pen = Turtle()\n",
    "\n",
    "    pen.speed(9)\n",
    "\n",
    "# ve la cay\n",
    "\n",
    "    pen.pencolor(\"#21610B\")\n",
    "             \n",
    "    pen.fillcolor(\"#21610B\")\n",
    "    pen.begin_fill()\n",
    "\n",
    "    pen.right(180)\n",
    "    pen.goto(0,40)\n",
    "    pen.circle(50, steps = 3)\n",
    "    pen.end_fill()\n",
    "\n",
    "    pen.penup()\n",
    "    pen.goto(0,10)\n",
    "    pen.pendown()\n",
    "\n",
    "    pen.fillcolor(\"#21610B\")\n",
    "    pen.begin_fill()\n",
    "\n",
    "\n",
    "    pen.circle(50, steps = 3)\n",
    "    pen.end_fill()\n",
    "\n",
    "    pen.penup()\n",
    "    pen.goto(0,-20)\n",
    "    pen.pendown()\n",
    "\n",
    "    pen.fillcolor(\"#21610B\")\n",
    "    pen.begin_fill()\n",
    "\n",
    "\n",
    "    pen.circle(50, steps = 3)\n",
    "    pen.end_fill()\n",
    "\n",
    "# ve than cay\n",
    "    pen.penup()\n",
    "    pen.goto(19,-95)\n",
    "    pen.pendown()\n",
    "\n",
    "    pen.pencolor(\"#886A08\")\n",
    "\n",
    "    pen.fillcolor(\"#886A08\")\n",
    "    pen.begin_fill()\n",
    "\n",
    "    pen.left(90)\n",
    "\n",
    "    pen.forward(100)\n",
    "    pen.right(90)\n",
    "    pen.forward(40)\n",
    "    pen.right(90)\n",
    "    pen.forward(100)\n",
    "    pen.right(90)\n",
    "    pen.forward(40)\n",
    "\n",
    "    pen.end_fill()\n",
    "\n",
    "\n",
    "    turtle.done()\n"
   ]
  },
  {
   "attachments": {
    "image.png": {
     "image/png": "[encoded data removed]"
    }
   },
   "cell_type": "markdown",
   "id": "08fa2b6b",
   "metadata": {},
   "source": [
    "### Thực hành: Viết hàm vẽ ra hình ảnh như dưới đây:\n",
    "![image.png](attachment:image.png)"
   ]
  },
  {
   "cell_type": "code",
   "execution_count": 30,
   "id": "b3161e2c",
   "metadata": {},
   "outputs": [],
   "source": [
    "import turtle\n",
    "def draw_circle():\n",
    "    size = int(input('Nhap ban kinh: '))\n",
    "    pen = turtle.Turtle()\n",
    "    for i in range(6):\n",
    "        pen.circle(size)\n",
    "        pen.penup()\n",
    "        pen.rt(90)\n",
    "        pen.fd(20)\n",
    "        pen.lt(90)\n",
    "        pen.pendown()\n",
    "        size+=20\n",
    "    turtle.done()"
   ]
  },
  {
   "cell_type": "code",
   "execution_count": 32,
   "id": "cd78a27b",
   "metadata": {},
   "outputs": [
    {
     "name": "stdout",
     "output_type": "stream",
     "text": [
      "Nhap ban kinh: 20\n"
     ]
    }
   ],
   "source": [
    "draw_circle()"
   ]
  },
  {
   "cell_type": "markdown",
   "id": "77fa1ef1",
   "metadata": {},
   "source": [
    "## doc_string cho hàm"
   ]
  },
  {
   "cell_type": "code",
   "execution_count": 33,
   "id": "8dcf448b",
   "metadata": {},
   "outputs": [],
   "source": [
    "# Hàm tính chu vi hình chữ nhật\n",
    "def calc_perimeter_rectangle():\n",
    "    '''Ham nay dung de tinh chu vi hinh chu nhat'''\n",
    "    pass"
   ]
  },
  {
   "cell_type": "code",
   "execution_count": 34,
   "id": "c3a0612c",
   "metadata": {},
   "outputs": [
    {
     "data": {
      "text/plain": [
       "'Ham nay dung de tinh chu vi hinh chu nhat'"
      ]
     },
     "execution_count": 34,
     "metadata": {},
     "output_type": "execute_result"
    }
   ],
   "source": [
    "# . _ _ doc _ _ \n",
    "calc_perimeter_rectangle.__doc__"
   ]
  },
  {
   "cell_type": "code",
   "execution_count": 5,
   "id": "a7dc57e9",
   "metadata": {},
   "outputs": [],
   "source": [
    "# Hàm xếp loại học sinh"
   ]
  },
  {
   "cell_type": "markdown",
   "id": "0c5f3f35",
   "metadata": {},
   "source": [
    "## Phạm vi biến"
   ]
  },
  {
   "cell_type": "code",
   "execution_count": 6,
   "id": "b332222c",
   "metadata": {},
   "outputs": [],
   "source": [
    "# Hàm tính tổng các số từ 1 đến 10\n",
    "# Nhung bien trong ham chi co the truy cap va su dung trong ham. Khi ham ket thuc thi bien bi xoa di\n",
    "def calc_1to10_sum():\n",
    "    tong = 0\n",
    "    for i in range(1,11):\n",
    "        tong += i\n",
    "    print(tong)"
   ]
  },
  {
   "cell_type": "markdown",
   "id": "7407e8fe",
   "metadata": {},
   "source": [
    "## Đối số của hàm"
   ]
  },
  {
   "cell_type": "code",
   "execution_count": null,
   "id": "f5787950",
   "metadata": {},
   "outputs": [],
   "source": [
    "# Hàm tính thể tích hình lập phương"
   ]
  },
  {
   "cell_type": "code",
   "execution_count": 7,
   "id": "8d1bc23b",
   "metadata": {},
   "outputs": [],
   "source": [
    "# Hàm xếp loại học sinh"
   ]
  },
  {
   "cell_type": "markdown",
   "id": "1eee19a7",
   "metadata": {},
   "source": [
    "### Thực hành: Viết hàm nhận vào một số nguyên và kiểm tra xem số đó có phải là số nguyên tố hay không.\n"
   ]
  },
  {
   "cell_type": "code",
   "execution_count": null,
   "id": "d3c5d3a9",
   "metadata": {},
   "outputs": [],
   "source": []
  },
  {
   "cell_type": "markdown",
   "id": "dea3b237",
   "metadata": {},
   "source": [
    "## Đối số có giá trị mặc định"
   ]
  },
  {
   "cell_type": "code",
   "execution_count": null,
   "id": "8e871a22",
   "metadata": {},
   "outputs": [],
   "source": []
  },
  {
   "cell_type": "code",
   "execution_count": null,
   "id": "bb44715a",
   "metadata": {},
   "outputs": [],
   "source": []
  },
  {
   "cell_type": "markdown",
   "id": "4cb69485",
   "metadata": {},
   "source": [
    "## Giá trị trả về của hàm"
   ]
  },
  {
   "cell_type": "markdown",
   "id": "e4fac396",
   "metadata": {},
   "source": [
    "\n",
    "# return\n",
    "\n",
    "Cú pháp:\n",
    "\n",
    "`return <giá trị trả về>`\n",
    "\n",
    "##### Lưu ý: Sau khi thực hiện lệnh return, chương trình sẽ thoát khỏi hàm ngay lập tức (những lệnh sau đó không được thực hiện)\n",
    "\n",
    "Ví dụ:\n",
    "\n",
    "Hãy viết 1 hàm trả về giá trị trung bình của 2 số bất kỳ"
   ]
  },
  {
   "cell_type": "code",
   "execution_count": null,
   "id": "028b09bc",
   "metadata": {},
   "outputs": [],
   "source": []
  },
  {
   "cell_type": "code",
   "execution_count": null,
   "id": "24592238",
   "metadata": {},
   "outputs": [],
   "source": [
    "# Hàm tính chiều dài của chuỗi"
   ]
  },
  {
   "cell_type": "code",
   "execution_count": null,
   "id": "56d947d8",
   "metadata": {},
   "outputs": [],
   "source": [
    "# Hàm tính lũy thừa"
   ]
  },
  {
   "cell_type": "code",
   "execution_count": null,
   "id": "0178d43e",
   "metadata": {},
   "outputs": [],
   "source": [
    "# Hàm kiểm tra năm nhuận"
   ]
  }
 ],
 "metadata": {
  "kernelspec": {
   "display_name": "Python 3 (ipykernel)",
   "language": "python",
   "name": "python3"
  },
  "language_info": {
   "codemirror_mode": {
    "name": "ipython",
    "version": 3
   },
   "file_extension": ".py",
   "mimetype": "text/x-python",
   "name": "python",
   "nbconvert_exporter": "python",
   "pygments_lexer": "ipython3",
   "version": "3.10.2"
  }
 },
 "nbformat": 4,
 "nbformat_minor": 5
}
