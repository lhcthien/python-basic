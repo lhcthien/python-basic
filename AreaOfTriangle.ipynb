{
 "cells": [
  {
   "cell_type": "markdown",
   "id": "9ff83fda",
   "metadata": {},
   "source": [
    "# Area Of Triangle"
   ]
  },
  {
   "cell_type": "markdown",
   "id": "de76ad12",
   "metadata": {},
   "source": [
    "## Import thu vien math"
   ]
  },
  {
   "cell_type": "code",
   "execution_count": 1,
   "id": "2768cd8f",
   "metadata": {},
   "outputs": [],
   "source": [
    "import math"
   ]
  },
  {
   "cell_type": "markdown",
   "id": "56cd3780",
   "metadata": {},
   "source": [
    "## Nhap du lieu tu ban phim"
   ]
  },
  {
   "cell_type": "code",
   "execution_count": 2,
   "id": "1e293e2f",
   "metadata": {},
   "outputs": [
    {
     "name": "stdout",
     "output_type": "stream",
     "text": [
      "Enter the length of side a: 5\n",
      "Enter the length of side b: 6\n",
      "Enter the length of side c: 4\n"
     ]
    }
   ],
   "source": [
    "a = float(input(\"Enter the length of side a: \"))\n",
    "b = float(input(\"Enter the length of side b: \"))\n",
    "c = float(input(\"Enter the length of side c: \"))"
   ]
  },
  {
   "cell_type": "markdown",
   "id": "eed21283",
   "metadata": {},
   "source": [
    "## Tinh dien tich tam giac"
   ]
  },
  {
   "cell_type": "code",
   "execution_count": 3,
   "id": "4961e52e",
   "metadata": {},
   "outputs": [],
   "source": [
    "s = (a+b+c)/2\n",
    "area = math.sqrt(s*(s-a)*(s-b)*(s-c))"
   ]
  },
  {
   "cell_type": "markdown",
   "id": "00e0b7c7",
   "metadata": {},
   "source": [
    "## In ket qua"
   ]
  },
  {
   "cell_type": "code",
   "execution_count": 7,
   "id": "e162433c",
   "metadata": {},
   "outputs": [
    {
     "name": "stdout",
     "output_type": "stream",
     "text": [
      "Area of the triange is : 9.921567416492215\n"
     ]
    }
   ],
   "source": [
    "print(\"Area of the triange is :\" , area)"
   ]
  }
 ],
 "metadata": {
  "kernelspec": {
   "display_name": "Python 3 (ipykernel)",
   "language": "python",
   "name": "python3"
  },
  "language_info": {
   "codemirror_mode": {
    "name": "ipython",
    "version": 3
   },
   "file_extension": ".py",
   "mimetype": "text/x-python",
   "name": "python",
   "nbconvert_exporter": "python",
   "pygments_lexer": "ipython3",
   "version": "3.10.2"
  }
 },
 "nbformat": 4,
 "nbformat_minor": 5
}
